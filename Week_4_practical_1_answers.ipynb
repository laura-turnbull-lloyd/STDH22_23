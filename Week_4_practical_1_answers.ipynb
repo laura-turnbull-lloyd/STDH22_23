{
  "nbformat": 4,
  "nbformat_minor": 0,
  "metadata": {
    "colab": {
      "provenance": [],
      "collapsed_sections": [
        "dGF56hPKvLXc",
        "H3Ivf5rMrr7r",
        "OVI7Du_gtCDn",
        "TjTzVl_WlHir",
        "jNU-ER1ftDN7",
        "T7Tz182OtUBr"
      ],
      "authorship_tag": "ABX9TyOvruXJh8BXd/gPYCmTzCU4",
      "include_colab_link": true
    },
    "kernelspec": {
      "name": "python3",
      "display_name": "Python 3"
    },
    "language_info": {
      "name": "python"
    }
  },
  "cells": [
    {
      "cell_type": "markdown",
      "metadata": {
        "id": "view-in-github",
        "colab_type": "text"
      },
      "source": [
        "<a href=\"https://colab.research.google.com/github/laura-turnbull-lloyd/STDH22_23/blob/main/Week_4_practical_1_answers.ipynb\" target=\"_parent\"><img src=\"https://colab.research.google.com/assets/colab-badge.svg\" alt=\"Open In Colab\"/></a>"
      ]
    },
    {
      "cell_type": "markdown",
      "source": [
        "#Practical 1: Earthquake frequency-magnitude distributions, probabilities and recurrence intervals\n",
        "\n",
        "## Introduction\n",
        "This week you will undertake this self-led practical to explore the frequency-magnitude distributions of earthquakes in southern California, and the likelihood of a magnitude 6.7 and magnitude 8 earthquake occurring over the next 30 years.\n",
        "\n",
        "##Aims\n",
        "1. To acquire data from an earthquake catalogue\n",
        "2. To evaluate whether the  earthquake data are suitable for time-independent analyses\n",
        "3. To assess the frequency-magnitude relationship and undertake time-independent probability calculation\n",
        "\n",
        "##Format of the practical\n",
        "There are a set of tasks that you need to complete below (8 points possible). You also need to write a summary of your findings in a short scientific abstract of no more than 200 words (2 points possible). The abstract should provide a thorough summary of the work undertaken and should be well-written and organised. \n",
        "\n",
        "You will answer the questions and write your abstract in this notebook. \n",
        "\n",
        "##Submitting the practical\n",
        "You will submit this work in two forms:\n",
        "1. You are required to save this notebook as a pdf which you will upload to Turnitin. \n",
        "2. You are also required to submit this workbook as a notebook. To do this, please click on the 'share' button (top right corner of this screen). Under 'General Access' change the access from 'Restricted' to 'Anyone with link'. Then copy the link and paste it here:\n",
        "\n",
        "***Paste your link here:*** \n",
        "\n",
        "(note that to add text into a text block, you need to hover your mouse over the text block you want to edit, and double-click)\n",
        "\n",
        "Please also rename your workbook (Week_4_practical_1.ipynb) so that it contains your name (e.g. Week_4_practical_1_LauraTurnbullLloyd.ipynb).\n",
        "\n",
        "\n"
      ],
      "metadata": {
        "id": "QmBzWd80SuGk"
      }
    },
    {
      "cell_type": "markdown",
      "source": [
        "## Getting started\n",
        "First, you need to load modules."
      ],
      "metadata": {
        "id": "GWcc8Tk_iPzT"
      }
    },
    {
      "cell_type": "code",
      "source": [
        "# import modules \n",
        "import pandas as pd\n",
        "import numpy as np \n",
        "import matplotlib.pyplot as plt\n",
        "import requests\n",
        "from scipy import stats\n"
      ],
      "metadata": {
        "id": "CGSTtG0uiUUV"
      },
      "execution_count": 1,
      "outputs": []
    },
    {
      "cell_type": "markdown",
      "source": [
        "##Downloading data\n",
        "Download data from the USGS using the following parameters:\n",
        "* format = 'csv'\n",
        "* starttime = 1994-01-01\n",
        "* endtime = 2008-01-01\n",
        "* minlatitude = 33.75\n",
        "* maxlatitude = 34.75\n",
        "* minlongitude = -119.20\n",
        "* maxlongitude = -117.80\n",
        "* minmagnitude = 1.0\n"
      ],
      "metadata": {
        "id": "1jN_nNFqYQnA"
      }
    },
    {
      "cell_type": "code",
      "execution_count": 2,
      "metadata": {
        "id": "d0E1vFrLSo_a"
      },
      "outputs": [],
      "source": [
        "# answer\n",
        "url = 'https://earthquake.usgs.gov/fdsnws/event/1/query'\n",
        "\n",
        "payload = {'format': 'csv', \n",
        "           'starttime': '1994-01-01',\n",
        "           'endtime': '2008-01-01',\n",
        "           'minlatitude':'33.75', \n",
        "           'maxlatitude':'34.75', \n",
        "           'minlongitude':'-119.20', \n",
        "           'maxlongitude':' -117.80', \n",
        "           'minmagnitude' : '1.0',\n",
        "           'limit':[1,20000]} # note that the max no of records you can get at a time is 20000\n"
      ]
    },
    {
      "cell_type": "code",
      "source": [
        "r = requests.get(url=url, params=payload)"
      ],
      "metadata": {
        "id": "jW6tSYchvjnG"
      },
      "execution_count": 3,
      "outputs": []
    },
    {
      "cell_type": "code",
      "source": [
        "from io import StringIO\n",
        "eq = pd.read_csv(StringIO(r.text))"
      ],
      "metadata": {
        "id": "rEeJRtj9wB3v"
      },
      "execution_count": 4,
      "outputs": []
    },
    {
      "cell_type": "code",
      "source": [
        "eq"
      ],
      "metadata": {
        "id": "QXamsg_3yk0H",
        "colab": {
          "base_uri": "https://localhost:8080/",
          "height": 672
        },
        "outputId": "b22d2681-5a24-4241-aab4-b527e3a28a93"
      },
      "execution_count": 5,
      "outputs": [
        {
          "output_type": "execute_result",
          "data": {
            "text/plain": [
              "                           time   latitude   longitude   depth   mag magType  \\\n",
              "0      2007-12-27T07:13:16.490Z  34.529667 -118.809333  14.760  1.58      ml   \n",
              "1      2007-12-27T07:09:33.350Z  34.521333 -118.827000  13.643  1.74      ml   \n",
              "2      2007-12-26T06:07:50.870Z  34.385667 -118.628500   7.270  1.70      ml   \n",
              "3      2007-12-25T17:09:43.130Z  34.374333 -118.303833   6.050  1.38      ml   \n",
              "4      2007-12-24T05:11:43.600Z  34.001500 -118.456667  13.688  1.67      ml   \n",
              "...                         ...        ...         ...     ...   ...     ...   \n",
              "18989  1994-01-04T05:17:40.360Z  34.060000 -118.824000   5.347  1.69      mc   \n",
              "18990  1994-01-03T09:27:03.710Z  34.349000 -118.602000   5.008  1.21      mc   \n",
              "18991  1994-01-02T16:41:43.010Z  34.488000 -118.135000  12.986  1.66      mc   \n",
              "18992  1994-01-02T07:34:27.590Z  33.928000 -118.279000  17.274  2.09      mc   \n",
              "18993  1994-01-02T02:35:43.890Z  33.955000 -118.202000  16.275  2.02      mc   \n",
              "\n",
              "        nst    gap     dmin    rms  ...                   updated  \\\n",
              "0      10.0  238.0  0.11040  0.130  ...  2016-03-09T11:13:40.038Z   \n",
              "1      23.0   50.0  0.12620  0.270  ...  2016-03-08T17:32:04.712Z   \n",
              "2      29.0   64.0  0.04354  0.190  ...  2016-03-09T14:35:53.514Z   \n",
              "3      12.0  154.0  0.08048  0.090  ...  2016-03-09T14:35:49.910Z   \n",
              "4      21.0  101.0  0.01285  0.160  ...  2016-03-09T05:32:42.174Z   \n",
              "...     ...    ...      ...    ...  ...                       ...   \n",
              "18989   0.0  141.9      NaN  0.381  ...  2016-02-12T19:56:18.975Z   \n",
              "18990   0.0  269.9  0.17180  0.138  ...  2016-02-12T07:07:53.580Z   \n",
              "18991   0.0   78.8  0.04241  0.144  ...  2016-02-12T22:25:33.921Z   \n",
              "18992   0.0   87.7      NaN  0.212  ...  2016-02-13T08:33:44.115Z   \n",
              "18993   0.0  108.8      NaN  0.163  ...  2016-02-12T12:04:58.375Z   \n",
              "\n",
              "                                    place        type horizontalError  \\\n",
              "0                      13km N of Piru, CA  earthquake            1.75   \n",
              "1                    12km NNW of Piru, CA  earthquake            0.53   \n",
              "2                  9km SW of Valencia, CA  earthquake            0.42   \n",
              "3       12km NNE of Lake View Terrace, CA  earthquake            0.55   \n",
              "4             2km N of Marina del Rey, CA  earthquake            0.58   \n",
              "...                                   ...         ...             ...   \n",
              "18989       6km NNW of Malibu, California  earthquake             NaN   \n",
              "18990    10km N of Chatsworth, California  earthquake             NaN   \n",
              "18991       2km SW of Vincent, California  earthquake             NaN   \n",
              "18992  2km WNW of Willowbrook, California  earthquake             NaN   \n",
              "18993     1km E of South Gate, California  earthquake             NaN   \n",
              "\n",
              "      depthError  magError  magNst    status  locationSource magSource  \n",
              "0          0.780     0.020     5.0  reviewed              ci        ci  \n",
              "1          0.970     0.094    39.0  reviewed              ci        ci  \n",
              "2          1.040     0.128    60.0  reviewed              ci        ci  \n",
              "3          1.830     0.093    16.0  reviewed              ci        ci  \n",
              "4          0.450     0.264    50.0  reviewed              ci        ci  \n",
              "...          ...       ...     ...       ...             ...       ...  \n",
              "18989        NaN       NaN    17.0  reviewed              ci        ci  \n",
              "18990        NaN       NaN     8.0  reviewed              ci        ci  \n",
              "18991      0.359       NaN    21.0  reviewed              ci        ci  \n",
              "18992      0.887       NaN    74.0  reviewed              ci        ci  \n",
              "18993      0.823       NaN    62.0  reviewed              ci        ci  \n",
              "\n",
              "[18994 rows x 22 columns]"
            ],
            "text/html": [
              "\n",
              "  <div id=\"df-6f31809d-b971-47d1-a2a8-d55882b7e7a3\">\n",
              "    <div class=\"colab-df-container\">\n",
              "      <div>\n",
              "<style scoped>\n",
              "    .dataframe tbody tr th:only-of-type {\n",
              "        vertical-align: middle;\n",
              "    }\n",
              "\n",
              "    .dataframe tbody tr th {\n",
              "        vertical-align: top;\n",
              "    }\n",
              "\n",
              "    .dataframe thead th {\n",
              "        text-align: right;\n",
              "    }\n",
              "</style>\n",
              "<table border=\"1\" class=\"dataframe\">\n",
              "  <thead>\n",
              "    <tr style=\"text-align: right;\">\n",
              "      <th></th>\n",
              "      <th>time</th>\n",
              "      <th>latitude</th>\n",
              "      <th>longitude</th>\n",
              "      <th>depth</th>\n",
              "      <th>mag</th>\n",
              "      <th>magType</th>\n",
              "      <th>nst</th>\n",
              "      <th>gap</th>\n",
              "      <th>dmin</th>\n",
              "      <th>rms</th>\n",
              "      <th>...</th>\n",
              "      <th>updated</th>\n",
              "      <th>place</th>\n",
              "      <th>type</th>\n",
              "      <th>horizontalError</th>\n",
              "      <th>depthError</th>\n",
              "      <th>magError</th>\n",
              "      <th>magNst</th>\n",
              "      <th>status</th>\n",
              "      <th>locationSource</th>\n",
              "      <th>magSource</th>\n",
              "    </tr>\n",
              "  </thead>\n",
              "  <tbody>\n",
              "    <tr>\n",
              "      <th>0</th>\n",
              "      <td>2007-12-27T07:13:16.490Z</td>\n",
              "      <td>34.529667</td>\n",
              "      <td>-118.809333</td>\n",
              "      <td>14.760</td>\n",
              "      <td>1.58</td>\n",
              "      <td>ml</td>\n",
              "      <td>10.0</td>\n",
              "      <td>238.0</td>\n",
              "      <td>0.11040</td>\n",
              "      <td>0.130</td>\n",
              "      <td>...</td>\n",
              "      <td>2016-03-09T11:13:40.038Z</td>\n",
              "      <td>13km N of Piru, CA</td>\n",
              "      <td>earthquake</td>\n",
              "      <td>1.75</td>\n",
              "      <td>0.780</td>\n",
              "      <td>0.020</td>\n",
              "      <td>5.0</td>\n",
              "      <td>reviewed</td>\n",
              "      <td>ci</td>\n",
              "      <td>ci</td>\n",
              "    </tr>\n",
              "    <tr>\n",
              "      <th>1</th>\n",
              "      <td>2007-12-27T07:09:33.350Z</td>\n",
              "      <td>34.521333</td>\n",
              "      <td>-118.827000</td>\n",
              "      <td>13.643</td>\n",
              "      <td>1.74</td>\n",
              "      <td>ml</td>\n",
              "      <td>23.0</td>\n",
              "      <td>50.0</td>\n",
              "      <td>0.12620</td>\n",
              "      <td>0.270</td>\n",
              "      <td>...</td>\n",
              "      <td>2016-03-08T17:32:04.712Z</td>\n",
              "      <td>12km NNW of Piru, CA</td>\n",
              "      <td>earthquake</td>\n",
              "      <td>0.53</td>\n",
              "      <td>0.970</td>\n",
              "      <td>0.094</td>\n",
              "      <td>39.0</td>\n",
              "      <td>reviewed</td>\n",
              "      <td>ci</td>\n",
              "      <td>ci</td>\n",
              "    </tr>\n",
              "    <tr>\n",
              "      <th>2</th>\n",
              "      <td>2007-12-26T06:07:50.870Z</td>\n",
              "      <td>34.385667</td>\n",
              "      <td>-118.628500</td>\n",
              "      <td>7.270</td>\n",
              "      <td>1.70</td>\n",
              "      <td>ml</td>\n",
              "      <td>29.0</td>\n",
              "      <td>64.0</td>\n",
              "      <td>0.04354</td>\n",
              "      <td>0.190</td>\n",
              "      <td>...</td>\n",
              "      <td>2016-03-09T14:35:53.514Z</td>\n",
              "      <td>9km SW of Valencia, CA</td>\n",
              "      <td>earthquake</td>\n",
              "      <td>0.42</td>\n",
              "      <td>1.040</td>\n",
              "      <td>0.128</td>\n",
              "      <td>60.0</td>\n",
              "      <td>reviewed</td>\n",
              "      <td>ci</td>\n",
              "      <td>ci</td>\n",
              "    </tr>\n",
              "    <tr>\n",
              "      <th>3</th>\n",
              "      <td>2007-12-25T17:09:43.130Z</td>\n",
              "      <td>34.374333</td>\n",
              "      <td>-118.303833</td>\n",
              "      <td>6.050</td>\n",
              "      <td>1.38</td>\n",
              "      <td>ml</td>\n",
              "      <td>12.0</td>\n",
              "      <td>154.0</td>\n",
              "      <td>0.08048</td>\n",
              "      <td>0.090</td>\n",
              "      <td>...</td>\n",
              "      <td>2016-03-09T14:35:49.910Z</td>\n",
              "      <td>12km NNE of Lake View Terrace, CA</td>\n",
              "      <td>earthquake</td>\n",
              "      <td>0.55</td>\n",
              "      <td>1.830</td>\n",
              "      <td>0.093</td>\n",
              "      <td>16.0</td>\n",
              "      <td>reviewed</td>\n",
              "      <td>ci</td>\n",
              "      <td>ci</td>\n",
              "    </tr>\n",
              "    <tr>\n",
              "      <th>4</th>\n",
              "      <td>2007-12-24T05:11:43.600Z</td>\n",
              "      <td>34.001500</td>\n",
              "      <td>-118.456667</td>\n",
              "      <td>13.688</td>\n",
              "      <td>1.67</td>\n",
              "      <td>ml</td>\n",
              "      <td>21.0</td>\n",
              "      <td>101.0</td>\n",
              "      <td>0.01285</td>\n",
              "      <td>0.160</td>\n",
              "      <td>...</td>\n",
              "      <td>2016-03-09T05:32:42.174Z</td>\n",
              "      <td>2km N of Marina del Rey, CA</td>\n",
              "      <td>earthquake</td>\n",
              "      <td>0.58</td>\n",
              "      <td>0.450</td>\n",
              "      <td>0.264</td>\n",
              "      <td>50.0</td>\n",
              "      <td>reviewed</td>\n",
              "      <td>ci</td>\n",
              "      <td>ci</td>\n",
              "    </tr>\n",
              "    <tr>\n",
              "      <th>...</th>\n",
              "      <td>...</td>\n",
              "      <td>...</td>\n",
              "      <td>...</td>\n",
              "      <td>...</td>\n",
              "      <td>...</td>\n",
              "      <td>...</td>\n",
              "      <td>...</td>\n",
              "      <td>...</td>\n",
              "      <td>...</td>\n",
              "      <td>...</td>\n",
              "      <td>...</td>\n",
              "      <td>...</td>\n",
              "      <td>...</td>\n",
              "      <td>...</td>\n",
              "      <td>...</td>\n",
              "      <td>...</td>\n",
              "      <td>...</td>\n",
              "      <td>...</td>\n",
              "      <td>...</td>\n",
              "      <td>...</td>\n",
              "      <td>...</td>\n",
              "    </tr>\n",
              "    <tr>\n",
              "      <th>18989</th>\n",
              "      <td>1994-01-04T05:17:40.360Z</td>\n",
              "      <td>34.060000</td>\n",
              "      <td>-118.824000</td>\n",
              "      <td>5.347</td>\n",
              "      <td>1.69</td>\n",
              "      <td>mc</td>\n",
              "      <td>0.0</td>\n",
              "      <td>141.9</td>\n",
              "      <td>NaN</td>\n",
              "      <td>0.381</td>\n",
              "      <td>...</td>\n",
              "      <td>2016-02-12T19:56:18.975Z</td>\n",
              "      <td>6km NNW of Malibu, California</td>\n",
              "      <td>earthquake</td>\n",
              "      <td>NaN</td>\n",
              "      <td>NaN</td>\n",
              "      <td>NaN</td>\n",
              "      <td>17.0</td>\n",
              "      <td>reviewed</td>\n",
              "      <td>ci</td>\n",
              "      <td>ci</td>\n",
              "    </tr>\n",
              "    <tr>\n",
              "      <th>18990</th>\n",
              "      <td>1994-01-03T09:27:03.710Z</td>\n",
              "      <td>34.349000</td>\n",
              "      <td>-118.602000</td>\n",
              "      <td>5.008</td>\n",
              "      <td>1.21</td>\n",
              "      <td>mc</td>\n",
              "      <td>0.0</td>\n",
              "      <td>269.9</td>\n",
              "      <td>0.17180</td>\n",
              "      <td>0.138</td>\n",
              "      <td>...</td>\n",
              "      <td>2016-02-12T07:07:53.580Z</td>\n",
              "      <td>10km N of Chatsworth, California</td>\n",
              "      <td>earthquake</td>\n",
              "      <td>NaN</td>\n",
              "      <td>NaN</td>\n",
              "      <td>NaN</td>\n",
              "      <td>8.0</td>\n",
              "      <td>reviewed</td>\n",
              "      <td>ci</td>\n",
              "      <td>ci</td>\n",
              "    </tr>\n",
              "    <tr>\n",
              "      <th>18991</th>\n",
              "      <td>1994-01-02T16:41:43.010Z</td>\n",
              "      <td>34.488000</td>\n",
              "      <td>-118.135000</td>\n",
              "      <td>12.986</td>\n",
              "      <td>1.66</td>\n",
              "      <td>mc</td>\n",
              "      <td>0.0</td>\n",
              "      <td>78.8</td>\n",
              "      <td>0.04241</td>\n",
              "      <td>0.144</td>\n",
              "      <td>...</td>\n",
              "      <td>2016-02-12T22:25:33.921Z</td>\n",
              "      <td>2km SW of Vincent, California</td>\n",
              "      <td>earthquake</td>\n",
              "      <td>NaN</td>\n",
              "      <td>0.359</td>\n",
              "      <td>NaN</td>\n",
              "      <td>21.0</td>\n",
              "      <td>reviewed</td>\n",
              "      <td>ci</td>\n",
              "      <td>ci</td>\n",
              "    </tr>\n",
              "    <tr>\n",
              "      <th>18992</th>\n",
              "      <td>1994-01-02T07:34:27.590Z</td>\n",
              "      <td>33.928000</td>\n",
              "      <td>-118.279000</td>\n",
              "      <td>17.274</td>\n",
              "      <td>2.09</td>\n",
              "      <td>mc</td>\n",
              "      <td>0.0</td>\n",
              "      <td>87.7</td>\n",
              "      <td>NaN</td>\n",
              "      <td>0.212</td>\n",
              "      <td>...</td>\n",
              "      <td>2016-02-13T08:33:44.115Z</td>\n",
              "      <td>2km WNW of Willowbrook, California</td>\n",
              "      <td>earthquake</td>\n",
              "      <td>NaN</td>\n",
              "      <td>0.887</td>\n",
              "      <td>NaN</td>\n",
              "      <td>74.0</td>\n",
              "      <td>reviewed</td>\n",
              "      <td>ci</td>\n",
              "      <td>ci</td>\n",
              "    </tr>\n",
              "    <tr>\n",
              "      <th>18993</th>\n",
              "      <td>1994-01-02T02:35:43.890Z</td>\n",
              "      <td>33.955000</td>\n",
              "      <td>-118.202000</td>\n",
              "      <td>16.275</td>\n",
              "      <td>2.02</td>\n",
              "      <td>mc</td>\n",
              "      <td>0.0</td>\n",
              "      <td>108.8</td>\n",
              "      <td>NaN</td>\n",
              "      <td>0.163</td>\n",
              "      <td>...</td>\n",
              "      <td>2016-02-12T12:04:58.375Z</td>\n",
              "      <td>1km E of South Gate, California</td>\n",
              "      <td>earthquake</td>\n",
              "      <td>NaN</td>\n",
              "      <td>0.823</td>\n",
              "      <td>NaN</td>\n",
              "      <td>62.0</td>\n",
              "      <td>reviewed</td>\n",
              "      <td>ci</td>\n",
              "      <td>ci</td>\n",
              "    </tr>\n",
              "  </tbody>\n",
              "</table>\n",
              "<p>18994 rows × 22 columns</p>\n",
              "</div>\n",
              "      <button class=\"colab-df-convert\" onclick=\"convertToInteractive('df-6f31809d-b971-47d1-a2a8-d55882b7e7a3')\"\n",
              "              title=\"Convert this dataframe to an interactive table.\"\n",
              "              style=\"display:none;\">\n",
              "        \n",
              "  <svg xmlns=\"http://www.w3.org/2000/svg\" height=\"24px\"viewBox=\"0 0 24 24\"\n",
              "       width=\"24px\">\n",
              "    <path d=\"M0 0h24v24H0V0z\" fill=\"none\"/>\n",
              "    <path d=\"M18.56 5.44l.94 2.06.94-2.06 2.06-.94-2.06-.94-.94-2.06-.94 2.06-2.06.94zm-11 1L8.5 8.5l.94-2.06 2.06-.94-2.06-.94L8.5 2.5l-.94 2.06-2.06.94zm10 10l.94 2.06.94-2.06 2.06-.94-2.06-.94-.94-2.06-.94 2.06-2.06.94z\"/><path d=\"M17.41 7.96l-1.37-1.37c-.4-.4-.92-.59-1.43-.59-.52 0-1.04.2-1.43.59L10.3 9.45l-7.72 7.72c-.78.78-.78 2.05 0 2.83L4 21.41c.39.39.9.59 1.41.59.51 0 1.02-.2 1.41-.59l7.78-7.78 2.81-2.81c.8-.78.8-2.07 0-2.86zM5.41 20L4 18.59l7.72-7.72 1.47 1.35L5.41 20z\"/>\n",
              "  </svg>\n",
              "      </button>\n",
              "      \n",
              "  <style>\n",
              "    .colab-df-container {\n",
              "      display:flex;\n",
              "      flex-wrap:wrap;\n",
              "      gap: 12px;\n",
              "    }\n",
              "\n",
              "    .colab-df-convert {\n",
              "      background-color: #E8F0FE;\n",
              "      border: none;\n",
              "      border-radius: 50%;\n",
              "      cursor: pointer;\n",
              "      display: none;\n",
              "      fill: #1967D2;\n",
              "      height: 32px;\n",
              "      padding: 0 0 0 0;\n",
              "      width: 32px;\n",
              "    }\n",
              "\n",
              "    .colab-df-convert:hover {\n",
              "      background-color: #E2EBFA;\n",
              "      box-shadow: 0px 1px 2px rgba(60, 64, 67, 0.3), 0px 1px 3px 1px rgba(60, 64, 67, 0.15);\n",
              "      fill: #174EA6;\n",
              "    }\n",
              "\n",
              "    [theme=dark] .colab-df-convert {\n",
              "      background-color: #3B4455;\n",
              "      fill: #D2E3FC;\n",
              "    }\n",
              "\n",
              "    [theme=dark] .colab-df-convert:hover {\n",
              "      background-color: #434B5C;\n",
              "      box-shadow: 0px 1px 3px 1px rgba(0, 0, 0, 0.15);\n",
              "      filter: drop-shadow(0px 1px 2px rgba(0, 0, 0, 0.3));\n",
              "      fill: #FFFFFF;\n",
              "    }\n",
              "  </style>\n",
              "\n",
              "      <script>\n",
              "        const buttonEl =\n",
              "          document.querySelector('#df-6f31809d-b971-47d1-a2a8-d55882b7e7a3 button.colab-df-convert');\n",
              "        buttonEl.style.display =\n",
              "          google.colab.kernel.accessAllowed ? 'block' : 'none';\n",
              "\n",
              "        async function convertToInteractive(key) {\n",
              "          const element = document.querySelector('#df-6f31809d-b971-47d1-a2a8-d55882b7e7a3');\n",
              "          const dataTable =\n",
              "            await google.colab.kernel.invokeFunction('convertToInteractive',\n",
              "                                                     [key], {});\n",
              "          if (!dataTable) return;\n",
              "\n",
              "          const docLinkHtml = 'Like what you see? Visit the ' +\n",
              "            '<a target=\"_blank\" href=https://colab.research.google.com/notebooks/data_table.ipynb>data table notebook</a>'\n",
              "            + ' to learn more about interactive tables.';\n",
              "          element.innerHTML = '';\n",
              "          dataTable['output_type'] = 'display_data';\n",
              "          await google.colab.output.renderOutput(dataTable, element);\n",
              "          const docLink = document.createElement('div');\n",
              "          docLink.innerHTML = docLinkHtml;\n",
              "          element.appendChild(docLink);\n",
              "        }\n",
              "      </script>\n",
              "    </div>\n",
              "  </div>\n",
              "  "
            ]
          },
          "metadata": {},
          "execution_count": 5
        },
        {
          "output_type": "stream",
          "name": "stdout",
          "text": [
            "Warning: Total number of columns (22) exceeds max_columns (20) limiting to first (20) columns.\n"
          ]
        }
      ]
    },
    {
      "cell_type": "markdown",
      "source": [
        "## Initial exploration of the data\n",
        "As always, it is useful to plot the data to check it looks okay, and to check for any patterns. It is useful to plot the earthquake time series with time on the x-axis and earthquake magnitude on the y-axis. \n",
        "\n",
        "Therefore, to improve plotting of the data, it is useful to convert the time column in the earthquake dataset into a time format recognised by python. You can then plot out the data and have better formatted axes labels showing dates. It also enables you to perform calculations on the date/time information, which you will shortly undertake.\n"
      ],
      "metadata": {
        "id": "yueqzNtLYe9N"
      }
    },
    {
      "cell_type": "code",
      "source": [
        "# to convert the time column into a proper time format:\n",
        "eq.time = pd.to_datetime(eq.time)\n",
        "eq.sort_values(\"time\", inplace=True)\n"
      ],
      "metadata": {
        "id": "4NXDwmSWYn3-"
      },
      "execution_count": 6,
      "outputs": []
    },
    {
      "cell_type": "code",
      "source": [
        "fig = plt.figure()\n",
        "plt.plot(eq.time, eq.mag, \".\");\n",
        "plt.ylabel(\"Magnitude\");"
      ],
      "metadata": {
        "id": "YHBXFHnKc2OY",
        "colab": {
          "base_uri": "https://localhost:8080/",
          "height": 265
        },
        "outputId": "48e20d61-e709-497b-8c63-81bff14d98d6"
      },
      "execution_count": 7,
      "outputs": [
        {
          "output_type": "display_data",
          "data": {
            "text/plain": [
              "<Figure size 432x288 with 1 Axes>"
            ],
            "image/png": "[encoded data removed]"
          },
          "metadata": {
            "needs_background": "light"
          }
        }
      ]
    },
    {
      "cell_type": "markdown",
      "source": [
        "## Are large earthquakes clustered?\n",
        "The typical parameterization of earthquake periodicity or clustering is the Coefficient of Variation (CoV), which is the standard deviation of the interval between earthquakes divided by the mean recurrence interval, and is a straightforward metric for evaluating earthquake spacing where:\n",
        "* Periodic earthquake distributions have a COV < 1\n",
        "* Poissonian earthquake distribution have a COV = 1\n",
        "* Clustered earthquake distributions have a COV > 1\n"
      ],
      "metadata": {
        "id": "uPK_kjuwYqts"
      }
    },
    {
      "cell_type": "markdown",
      "source": [
        "Now, you're in a position to calculate the earthquake COV using the code below:"
      ],
      "metadata": {
        "id": "sws4mX37pVQY"
      }
    },
    {
      "cell_type": "code",
      "source": [
        "# earthquake COV analysis\n",
        "interarrival = eq.time.diff().dropna().apply(lambda x: x / np.timedelta64(1, \"D\")) # don't worry about the detail here. This code is basically calculating the time difference between earthquake dates and giving a result in days.\n",
        "\n",
        "eq_standarddeviation = np.std(interarrival)\n",
        "eq_mean = np.mean(interarrival)\n",
        "eq_cov = eq_standarddeviation/eq_mean\n",
        "print(eq_cov)\n"
      ],
      "metadata": {
        "id": "SkdvixoCY0MW",
        "colab": {
          "base_uri": "https://localhost:8080/"
        },
        "outputId": "81514323-e18b-47bb-f576-d93091a73fb6"
      },
      "execution_count": null,
      "outputs": [
        {
          "output_type": "stream",
          "name": "stdout",
          "text": [
            "2.1866420684608223\n"
          ]
        }
      ]
    },
    {
      "cell_type": "markdown",
      "source": [
        "### Question 1: What type of behaviour (clustered/Poissonian/periodic) is shown in the earthquake record? What does this type of behaviour mean in terms of time-independent probobability analyses? (1 point, 0.5 for each part of the question)\n",
        "\n",
        "It is a clustered earthquake distribution. In a clustered distribution, events are not time-independent which violates the assumptions of time-idnependent hazard analysis.  "
      ],
      "metadata": {
        "id": "dGF56hPKvLXc"
      }
    },
    {
      "cell_type": "markdown",
      "source": [
        "#Cumulative frequency-magnitude distribution\n",
        "The next step is to inspect the frequency-magnitude distribution. Run the code below to plot out the frequency-magnitude distribution:"
      ],
      "metadata": {
        "id": "8dldo6TPY7kE"
      }
    },
    {
      "cell_type": "code",
      "source": [
        "# show the cumulative frequency-magnitude distribution for the entire dataset\n",
        "fig, ax = plt.subplots()\n",
        "ax.hist(\n",
        "    eq[\"mag\"], bins=len(eq),\n",
        "    histtype=\"step\", log=True,\n",
        "    cumulative=-1)\n",
        "ax.set_xlabel(\"Magnitude\")\n",
        "ax.set_ylabel(\"Cumulative frequency\")\n",
        "plt.show()"
      ],
      "metadata": {
        "id": "42-3xeCeZAyu",
        "colab": {
          "base_uri": "https://localhost:8080/",
          "height": 279
        },
        "outputId": "d97c728d-4d92-4eb1-a774-bbb872bdc1e8"
      },
      "execution_count": 8,
      "outputs": [
        {
          "output_type": "display_data",
          "data": {
            "text/plain": [
              "<Figure size 432x288 with 1 Axes>"
            ],
            "image/png": "[encoded data removed]"
          },
          "metadata": {
            "needs_background": "light"
          }
        }
      ]
    },
    {
      "cell_type": "markdown",
      "source": [
        "###Question 2: Looking at the above plot, over what range do the data show an apparent powerlaw distribution? Why does this relation break down at the upper and lower extremes of the data? (1 point, 0.5 for each part of the question)\n",
        "Between magnitudes 1.7 (ish) to 5. \n",
        "\n",
        "The relationship likely breaks down at the lower end because of the\n",
        "difficulty in detecting very small (Mw < 2.0) earthquakes with a national seismometer network. In practice, this is often circumvented by deploying temporary, very dense regional or local networks to detect even small events with Mw < 1.0. The upper tail of the distribution where we see the more extreme events is very sensitive to the time slice of data used in the analysis, and whether or not there happened to be a large event in the inventory. "
      ],
      "metadata": {
        "id": "nu808nLkabtY"
      }
    },
    {
      "cell_type": "markdown",
      "source": [
        "##Rate of earthquakes\n",
        "You can use the earthquake inventory to determine the expected rate of earthquakes of a given magnitude or above per year. \n",
        "To calculate the expected rate, you need to count the number of earthquakes of a given magnitude or above in the dataset, add a new column to the dataframe (called 'rate'), and calculate the rate by dividing the count of earthquakes equal to or above a specific size by the number of years in the dataset. This will return the rate of earthquakes per year of a given magnitude or above.\n",
        "\n",
        "Recall that you counted the number earthquakes of a specific magnitude in week 2, as detailed below."
      ],
      "metadata": {
        "id": "wTCeGvfxZIsG"
      }
    },
    {
      "cell_type": "code",
      "source": [
        "#earthquake rate calculation\n",
        "from collections import Counter\n",
        "\n",
        "counted_magnitudes = Counter(eq[\"mag\"])\n",
        "magnitudes = set(eq[\"mag\"])\n",
        "magnitudes = sorted(list(magnitudes), reverse=True)\n",
        "frequency = np.zeros(len(magnitudes))\n",
        "frequency[0] = counted_magnitudes[magnitudes[0]]\n",
        "for i, magnitude in enumerate(magnitudes[1:]):\n",
        "    frequency[i + 1] = frequency[i] + counted_magnitudes[magnitude]"
      ],
      "metadata": {
        "id": "QFWb3_rhZ4I2"
      },
      "execution_count": 9,
      "outputs": []
    },
    {
      "cell_type": "markdown",
      "source": [
        "Now you've got the overall frequency of earthquakes for each magnitude, so you need to convert this to a rate per year:"
      ],
      "metadata": {
        "id": "9CoNWzyA12d3"
      }
    },
    {
      "cell_type": "code",
      "source": [
        "# answer\n",
        "#enter the calculation here to determine the rate, and save it in a variable called 'rate'\n",
        "rate = frequency/14"
      ],
      "metadata": {
        "id": "c4wXpBFY19zo"
      },
      "execution_count": 10,
      "outputs": []
    },
    {
      "cell_type": "code",
      "source": [
        "rate\n"
      ],
      "metadata": {
        "colab": {
          "base_uri": "https://localhost:8080/"
        },
        "id": "vV6VibsWZCir",
        "outputId": "70a88040-c964-4251-eb52-09f6288da384"
      },
      "execution_count": 11,
      "outputs": [
        {
          "output_type": "execute_result",
          "data": {
            "text/plain": [
              "array([7.14285714e-02, 1.42857143e-01, 2.14285714e-01, 3.57142857e-01,\n",
              "       4.28571429e-01, 5.71428571e-01, 7.14285714e-01, 7.85714286e-01,\n",
              "       8.57142857e-01, 9.28571429e-01, 1.07142857e+00, 1.14285714e+00,\n",
              "       1.21428571e+00, 1.28571429e+00, 1.35714286e+00, 1.42857143e+00,\n",
              "       1.50000000e+00, 1.57142857e+00, 1.64285714e+00, 1.71428571e+00,\n",
              "       1.78571429e+00, 1.85714286e+00, 1.92857143e+00, 2.00000000e+00,\n",
              "       2.14285714e+00, 2.28571429e+00, 2.42857143e+00, 2.50000000e+00,\n",
              "       2.64285714e+00, 2.71428571e+00, 2.78571429e+00, 2.92857143e+00,\n",
              "       3.00000000e+00, 3.07142857e+00, 3.21428571e+00, 3.42857143e+00,\n",
              "       3.50000000e+00, 3.57142857e+00, 3.64285714e+00, 3.71428571e+00,\n",
              "       3.78571429e+00, 3.85714286e+00, 4.00000000e+00, 4.14285714e+00,\n",
              "       4.35714286e+00, 4.50000000e+00, 4.57142857e+00, 4.64285714e+00,\n",
              "       4.85714286e+00, 5.00000000e+00, 5.14285714e+00, 5.35714286e+00,\n",
              "       5.64285714e+00, 5.71428571e+00, 5.92857143e+00, 6.07142857e+00,\n",
              "       6.28571429e+00, 6.35714286e+00, 6.50000000e+00, 6.64285714e+00,\n",
              "       6.78571429e+00, 6.92857143e+00, 7.14285714e+00, 7.35714286e+00,\n",
              "       7.42857143e+00, 7.57142857e+00, 7.71428571e+00, 8.07142857e+00,\n",
              "       8.28571429e+00, 8.42857143e+00, 8.57142857e+00, 9.07142857e+00,\n",
              "       9.64285714e+00, 9.85714286e+00, 1.01428571e+01, 1.02857143e+01,\n",
              "       1.05000000e+01, 1.06428571e+01, 1.07857143e+01, 1.09285714e+01,\n",
              "       1.12142857e+01, 1.14285714e+01, 1.16428571e+01, 1.17857143e+01,\n",
              "       1.22142857e+01, 1.22857143e+01, 1.27142857e+01, 1.28571429e+01,\n",
              "       1.32857143e+01, 1.36428571e+01, 1.40000000e+01, 1.42142857e+01,\n",
              "       1.43571429e+01, 1.46428571e+01, 1.49285714e+01, 1.52142857e+01,\n",
              "       1.56428571e+01, 1.58571429e+01, 1.62857143e+01, 1.65000000e+01,\n",
              "       1.70714286e+01, 1.75000000e+01, 1.77857143e+01, 1.79285714e+01,\n",
              "       1.82857143e+01, 1.88571429e+01, 1.94285714e+01, 1.97142857e+01,\n",
              "       2.00714286e+01, 2.02857143e+01, 2.05000000e+01, 2.10000000e+01,\n",
              "       2.16428571e+01, 2.17857143e+01, 2.20000000e+01, 2.27857143e+01,\n",
              "       2.29285714e+01, 2.31428571e+01, 2.34285714e+01, 2.40714286e+01,\n",
              "       2.45000000e+01, 2.52857143e+01, 2.60714286e+01, 2.66428571e+01,\n",
              "       2.72142857e+01, 2.81428571e+01, 2.84285714e+01, 2.90000000e+01,\n",
              "       2.91428571e+01, 2.97142857e+01, 3.02857143e+01, 3.06428571e+01,\n",
              "       3.12142857e+01, 3.17142857e+01, 3.22857143e+01, 3.33571429e+01,\n",
              "       3.40000000e+01, 3.42857143e+01, 3.50000000e+01, 3.52142857e+01,\n",
              "       3.60000000e+01, 3.66428571e+01, 3.73571429e+01, 3.78571429e+01,\n",
              "       3.86428571e+01, 4.01428571e+01, 4.10000000e+01, 4.18571429e+01,\n",
              "       4.25714286e+01, 4.30000000e+01, 4.40000000e+01, 4.52142857e+01,\n",
              "       4.60000000e+01, 4.70000000e+01, 4.78571429e+01, 4.94285714e+01,\n",
              "       5.02142857e+01, 5.10714286e+01, 5.17142857e+01, 5.21428571e+01,\n",
              "       5.33571429e+01, 5.45714286e+01, 5.55714286e+01, 5.63571429e+01,\n",
              "       5.72142857e+01, 5.82857143e+01, 5.98571429e+01, 6.14285714e+01,\n",
              "       6.23571429e+01, 6.32857143e+01, 6.45000000e+01, 6.60000000e+01,\n",
              "       6.76428571e+01, 6.89285714e+01, 7.06428571e+01, 7.26428571e+01,\n",
              "       7.37142857e+01, 7.46428571e+01, 7.60000000e+01, 7.77142857e+01,\n",
              "       7.97142857e+01, 8.15714286e+01, 8.32142857e+01, 8.44285714e+01,\n",
              "       8.62142857e+01, 8.93571429e+01, 9.20000000e+01, 9.34285714e+01,\n",
              "       9.50000000e+01, 9.75714286e+01, 9.98571429e+01, 1.01428571e+02,\n",
              "       1.03500000e+02, 1.05285714e+02, 1.07428571e+02, 1.11357143e+02,\n",
              "       1.13357143e+02, 1.15571429e+02, 1.17000000e+02, 1.19000000e+02,\n",
              "       1.21214286e+02, 1.23500000e+02, 1.25500000e+02, 1.27142857e+02,\n",
              "       1.29928571e+02, 1.32928571e+02, 1.36000000e+02, 1.38500000e+02,\n",
              "       1.40714286e+02, 1.43785714e+02, 1.46500000e+02, 1.49857143e+02,\n",
              "       1.51928571e+02, 1.54928571e+02, 1.58642857e+02, 1.62571429e+02,\n",
              "       1.65571429e+02, 1.68142857e+02, 1.71071429e+02, 1.74142857e+02,\n",
              "       1.77928571e+02, 1.81071429e+02, 1.85142857e+02, 1.89142857e+02,\n",
              "       1.92285714e+02, 1.97642857e+02, 2.02142857e+02, 2.06357143e+02,\n",
              "       2.10714286e+02, 2.15357143e+02, 2.20928571e+02, 2.24571429e+02,\n",
              "       2.28142857e+02, 2.33071429e+02, 2.37571429e+02, 2.42857143e+02,\n",
              "       2.47428571e+02, 2.53071429e+02, 2.58285714e+02, 2.61928571e+02,\n",
              "       2.67357143e+02, 2.72785714e+02, 2.78142857e+02, 2.84357143e+02,\n",
              "       2.90500000e+02, 2.99000000e+02, 3.04785714e+02, 3.10857143e+02,\n",
              "       3.16357143e+02, 3.22428571e+02, 3.28357143e+02, 3.35000000e+02,\n",
              "       3.43214286e+02, 3.50285714e+02, 3.56928571e+02, 3.65500000e+02,\n",
              "       3.73785714e+02, 3.79857143e+02, 3.90500000e+02, 3.97857143e+02,\n",
              "       4.05357143e+02, 4.12857143e+02, 4.21500000e+02, 4.28928571e+02,\n",
              "       4.37928571e+02, 4.49571429e+02, 4.58714286e+02, 4.66785714e+02,\n",
              "       4.75214286e+02, 4.85071429e+02, 4.93142857e+02, 5.02500000e+02,\n",
              "       5.10642857e+02, 5.20214286e+02, 5.27642857e+02, 5.43000000e+02,\n",
              "       5.52500000e+02, 5.62285714e+02, 5.74285714e+02, 5.84071429e+02,\n",
              "       5.95285714e+02, 6.05285714e+02, 6.16000000e+02, 6.26500000e+02,\n",
              "       6.36500000e+02, 6.51214286e+02, 6.61285714e+02, 6.71214286e+02,\n",
              "       6.81857143e+02, 6.92357143e+02, 7.03214286e+02, 7.15857143e+02,\n",
              "       7.26071429e+02, 7.36142857e+02, 7.46785714e+02, 7.69428571e+02,\n",
              "       7.79285714e+02, 7.90214286e+02, 8.00642857e+02, 8.10428571e+02,\n",
              "       8.20142857e+02, 8.31785714e+02, 8.41571429e+02, 8.51785714e+02,\n",
              "       8.60928571e+02, 8.80928571e+02, 8.90785714e+02, 9.01071429e+02,\n",
              "       9.11142857e+02, 9.22714286e+02, 9.32642857e+02, 9.43642857e+02,\n",
              "       9.54000000e+02, 9.66071429e+02, 9.75857143e+02, 1.00278571e+03,\n",
              "       1.01385714e+03, 1.02685714e+03, 1.03678571e+03, 1.04750000e+03,\n",
              "       1.05921429e+03, 1.06914286e+03, 1.07971429e+03, 1.09042857e+03,\n",
              "       1.10200000e+03, 1.12900000e+03, 1.13885714e+03, 1.14814286e+03,\n",
              "       1.15928571e+03, 1.16935714e+03, 1.17978571e+03, 1.19021429e+03,\n",
              "       1.20035714e+03, 1.21178571e+03, 1.22135714e+03, 1.24285714e+03,\n",
              "       1.25278571e+03, 1.26414286e+03, 1.27357143e+03, 1.28428571e+03,\n",
              "       1.29321429e+03, 1.30185714e+03, 1.31121429e+03, 1.31978571e+03,\n",
              "       1.32750000e+03, 1.35671429e+03])"
            ]
          },
          "metadata": {},
          "execution_count": 11
        }
      ]
    },
    {
      "cell_type": "code",
      "source": [
        "#answer\n",
        "fig, ax = plt.subplots()\n",
        "ax.semilogy(magnitudes, rate)\n",
        "ax.set_ylabel(\"rate per year N(M>=m)\")\n",
        "ax.set_xlabel(\"Magnitude\")\n",
        "plt.show()"
      ],
      "metadata": {
        "id": "-k7-WIru0Oct",
        "colab": {
          "base_uri": "https://localhost:8080/",
          "height": 279
        },
        "outputId": "2207d882-20c5-4dac-aea8-dc2ad611d1cd"
      },
      "execution_count": 12,
      "outputs": [
        {
          "output_type": "display_data",
          "data": {
            "text/plain": [
              "<Figure size 432x288 with 1 Axes>"
            ],
            "image/png": "[encoded data removed]"
          },
          "metadata": {
            "needs_background": "light"
          }
        }
      ]
    },
    {
      "cell_type": "markdown",
      "source": [
        "##Fitting a powerlaw distribution to the data\n",
        "Recall that the relation between earthquake magnitude and frequency can be given by:\n",
        "\n",
        "\\begin{equation}\n",
        "    \\log_{10}{R} = a - bM\n",
        "\\end{equation}\n",
        "\n",
        "where *M* is magnitude, *R* is the rate of events with magnitude >= *M*, and *a* and *b* are constants. Note that here were referring to rate, rather than number.\n",
        "\n",
        "What we are trying to do is find the best match between the predicted rate of earthquakes and the observed rate. Rearrange this equation to solve for R (rather than log(R), where R = rate)\n",
        "\n",
        "Recall that you need to optimise the fit of the powerlaw distribution by altering the range of earthquake magnitudes (xmin, xmax) over which you fit the powerlaw distribution. \n",
        "\n",
        "\n"
      ],
      "metadata": {
        "id": "wV64qGascPT6"
      }
    },
    {
      "cell_type": "code",
      "source": [
        "# Add values for xmin and xmax below\n",
        "mag_rate = pd.DataFrame({'mag': magnitudes, 'rate': rate}, columns=['mag', 'rate'])\n",
        "\n",
        "#subsample the dataframe based on a value of xmin and xmax\n",
        "#replace 999 with a suitable value\n",
        "mag_rate_subsample = mag_rate[(mag_rate['mag']>1.8) & (mag_rate['mag']<4.6)]\n"
      ],
      "metadata": {
        "id": "X_82l9k1r48m"
      },
      "execution_count": 31,
      "outputs": []
    },
    {
      "cell_type": "markdown",
      "source": [
        "Now fit the model to the subsampled data in an attempt to optimise the model fit."
      ],
      "metadata": {
        "id": "A4OZdN0F5KmC"
      }
    },
    {
      "cell_type": "code",
      "source": [
        "# answer\n",
        "# now fit the model to the subsampled data (this is where you fit the model using the np.polyfit function that you used in lecture 2)\n",
        "coefficients, residual, rank, singular_values, rcondition = np.polyfit(\n",
        "        mag_rate_subsample.mag, np.log10(mag_rate_subsample.rate), deg=1, full=True)\n",
        "b, a = coefficients\n",
        "print(f\"b={b:.2f}\")\n",
        "print(f\"residual={residual}\")\n",
        "print(f\"a={10**a:.2f}\")"
      ],
      "metadata": {
        "colab": {
          "base_uri": "https://localhost:8080/"
        },
        "id": "zWOhZoxk5a3M",
        "outputId": "90a0e7a5-a704-4001-a986-04668b8ab1e2"
      },
      "execution_count": 32,
      "outputs": [
        {
          "output_type": "stream",
          "name": "stdout",
          "text": [
            "b=-0.88\n",
            "residual=[0.07050289]\n",
            "a=17262.32\n"
          ]
        }
      ]
    },
    {
      "cell_type": "code",
      "source": [
        "# answer\n",
        "estimated_density_1 = 10 ** (a + (mag_rate_subsample.mag * b))"
      ],
      "metadata": {
        "id": "xP42ky8o5nLw"
      },
      "execution_count": 33,
      "outputs": []
    },
    {
      "cell_type": "code",
      "source": [
        "# answerplot your model (not the variable names might have to change here, depending on what you called them)\n",
        "fig, ax = plt.subplots()\n",
        "ax.semilogy(\n",
        "    magnitudes, rate, marker=\"+\", linestyle=\"None\",\n",
        "    label=\"Data\")\n",
        "ax.semilogy(mag_rate_subsample.mag, estimated_density_1, label=\"Model xmin = 'add number here', xmax = 'add number here'\")\n",
        "#ax.semilogy(magnitudes, estimated_density, label=\"Model\")\n",
        "ax.set_ylabel(\"Cumulative density\")\n",
        "ax.set_xlabel(\"Magnitude\")\n",
        "ax.legend()\n",
        "plt.show()"
      ],
      "metadata": {
        "id": "j2YmNMT15tLt",
        "colab": {
          "base_uri": "https://localhost:8080/",
          "height": 279
        },
        "outputId": "2e35ee61-7557-4e60-fc06-69c4b6a892e1"
      },
      "execution_count": 34,
      "outputs": [
        {
          "output_type": "display_data",
          "data": {
            "text/plain": [
              "<Figure size 432x288 with 1 Axes>"
            ],
            "image/png": "[encoded data removed]"
          },
          "metadata": {
            "needs_background": "light"
          }
        }
      ]
    },
    {
      "cell_type": "markdown",
      "source": [
        "##Question 3. What is the best-fitting relationship that you find? Over what magnitude range does this best-fit relationship apply? (2 points; 1 point for the relationship, 1 point for the range)\n",
        "xmin ~ 1.8, xmax ~ 4.7, residual = 0.0705.\n",
        "Remeber there's a balance to be had beween reducing the residual, whilst including sufficient data.\n",
        "a = 17262 and b = 0.88"
      ],
      "metadata": {
        "id": "H3Ivf5rMrr7r"
      }
    },
    {
      "cell_type": "markdown",
      "source": [
        "## Probability and recurrence estimation\n",
        "Your next task is to calculate the time-independent probability and recurrence intervals of an earthquake of at least M 6.7 and M 8 occurring in this region over the next 30 years. Use the code block below to enter your calculations and answer Questions 4 and 5 below. \n",
        "\n",
        "Note that you will have to use the optimum a and b parameter values that you derived above to estimate the probability and recurrence intervals of larger earthquakes that are not contained within your dataset.\n",
        "\n",
        "\n"
      ],
      "metadata": {
        "id": "gAnMCB35fIn3"
      }
    },
    {
      "cell_type": "code",
      "source": [
        "# Recurrence interval and probability calculations\n",
        "\n",
        "# Tip these M 6.7 and M 8 are geater than the maximum magnitudes in the dataset you so will have to use the a and b parameters of the distribution we fitted to the data. \n",
        "\n",
        "#Answer\n",
        "Rate6_7 = 10 ** (a + (b*6.7)) # rate per year\n",
        "T6_7 = 1/Rate6_7 # recurrence interval\n",
        "p6_7 = 1/T6_7 #probability in 1 year\n",
        "p6_7_30 = 1-(1-p6_7)**30 # probability over 30 years\n",
        "print('Rate 6.7: ', Rate6_7)\n",
        "print('Recurrence interval 6.7: ', T6_7)\n",
        "print('Probability M 6.7 over 30 years: ', p6_7_30)\n",
        "\n",
        "# and similarly for M8 earthquake\n",
        "Rate8 = 10 ** (a + (b*8)) # rate per year\n",
        "T8 = 1/Rate8 # recurrence interval\n",
        "p8 = 1/T8 #probability in 1 year\n",
        "p8_30 = 1-(1-p8)**30 # probability over 30 years\n",
        "print('Rate 8.0: ', Rate8) \n",
        "print('Recurrence interval 8.0: ', T8)\n",
        "print('Probability M 8.0 over 30 years: ', p8_30)\n"
      ],
      "metadata": {
        "id": "wfhc_npRs8AE",
        "colab": {
          "base_uri": "https://localhost:8080/"
        },
        "outputId": "f72ff015-8985-4531-82f0-01e5fa847904"
      },
      "execution_count": 40,
      "outputs": [
        {
          "output_type": "stream",
          "name": "stdout",
          "text": [
            "Rate 6.7:  0.02225569924077963\n",
            "Recurrence interval 6.7:  44.932311008574246\n",
            "Probability M 6.7 over 30 years:  0.49095193108430324\n",
            "Rate 8.0:  0.001602034303704491\n",
            "Recurrence interval 8.0:  624.2063591819683\n",
            "Probability M 8.0 over 30 years:  0.046961109809342205\n"
          ]
        }
      ]
    },
    {
      "cell_type": "markdown",
      "source": [
        "##Question 4: What is the expected recurrence interval of an earthquake of at least M 6.7 and M 8? (1 point: 0.5 points for each part of the question)\n",
        "Recurrence interval M 6.7 = 45 years\n",
        "\n",
        "Recurence interval M 8 = 624 years\n",
        "\n",
        "\n",
        "\n"
      ],
      "metadata": {
        "id": "OVI7Du_gtCDn"
      }
    },
    {
      "cell_type": "markdown",
      "source": [
        "##Question 5: What is the time-independent probability of an earthquake of at least M 6.7 and M 8 occurring in this region over the next 30 years? (1 point). How do these values compare with the findings of WGCEP for southern California? (1 point) (See https://pubs.usgs.gov/fs/2015/3009/pdf/fs2015-3009.pdf for summary)\n",
        "\n",
        "Probability M 6.7 over next 30 years = 49%\n",
        "\n",
        "Probability M 8.0 over next 30 years = 4.5%\n",
        "\n",
        "Field and the 2014 WGCEP (2015) produced the following summary table of earthquake probabilities in southern California:\n",
        "\n",
        "\n",
        "| Magnitude (>=) | Average repeat time (years) | 30-yr likelihood of one or more events (%) |\n",
        "| --- | --- | --- |\n",
        "| 5 |  0.24| 100|\n",
        "| 6  |  2.3  | 100|\n",
        "| 6.7 | 12 | 93    |\n",
        "| 7| 25  | 75  |\n",
        "| 7.5  | 87 | 36    |\n",
        "| 8  | 522         | 7    |\n",
        "\n",
        "Note that their definition of Southern California is not the same as our study area. Nevertheless,\n",
        "their results are very close to ours. Not only are they the same order of magnitude, but their\n",
        "probabilities are within a factor of 2-3 to our estimates, despite the simplicity of our analysis and\n",
        "the assumptions that we have made. This is a pretty surprising result!\n"
      ],
      "metadata": {
        "id": "TjTzVl_WlHir"
      }
    },
    {
      "cell_type": "markdown",
      "source": [
        "##Question 6: Briefly list the assumptions that we have made in estimating the probabilities and recurrence intervals in Questions 3 and 4. (1 point)\n",
        "We have made a number of assumptions in our estimates:\n",
        "* Earthquakes in this region can be treated as a Poissonian process, leading to \n",
        "timeindependent probabilities.\n",
        "* Earthquakes across the entire study area can be described by a single \n",
        "magnitude-frequency distribution; in other words, we have ignored the possibility that differences across the area in geology, fault type, fault spacing or density, and earthquake history have led to different distributions.\n",
        "* The distribution has not changed over the 15 years represented by our data. In particular, we are assuming that the 1994 Mw 6.7 Northridge earthquake and its aftershocks can be described by the same distribution as the other earthquakes in our data set.\n",
        "* We have also assumed that the distribution is essentially complete, at least between the magnitudes of xmin and xmax. In other words, we’ve assumed that there are no ‘missing’ events that might otherwise skew our estimates of the a- and b-values."
      ],
      "metadata": {
        "id": "4XSdbinbk_Ts"
      }
    },
    {
      "cell_type": "markdown",
      "source": [
        "## Final task\n",
        "Summarise your findings in a brief (no more than 200 words) abstract. This should be a summary that is thorough and covers all the material (1 point), and that is well-written and well-organised (1 point)"
      ],
      "metadata": {
        "id": "jNU-ER1ftDN7"
      }
    },
    {
      "cell_type": "markdown",
      "source": [
        "## Abstract\n",
        "\n",
        "There are many ways of summarising the work, but this is what I would write. Be as precise and specific in your statements as you can; avoid vague sentences, and give specific results wherever possible. The first sentence or two should introduce the problem that is being addressed, and say what you have done to address it – don’t simply launch into your results, or the reader will not\n",
        "know why you’ve done this work or why it’s important. Finally, I encourage you to use the active voice (‘I did...’, ‘I found...’) where possible – it is easier to follow and more engaging for your reader.\n",
        "\n",
        "Time-independent earthquake probabilities depend in large part on observed rates of historical seismicity. Here I use 14 years of historical earthquake data from southern California, USA, to estimate the probability of large-magnitude earthquakes occurring in the next 30 years. Data from\n",
        "the USGS Catalog indicate that there were 18994 earthquakes within the study area between 1994 and 2008, with magnitudes up to 6.7. These events follow an approximate power-law distribution for magnitudes 1.8 to Mw 4.7, and yield a best-fit a value of 17262 and b-value of 0.88, close to the global mean of b ~ 1.0. If we assume that southern California earthquakes are Poissonian, extrapolation to larger magnitudes indicates a probability of 49% for a Mw ≥ 6.7 earthquake and a probability of 4.5% for a Mw ≥ 8.0 earthquake over the next 30 years. The associated recurrence intervals are 45 yr for Mw ≥ 6.7 and 624 yr for Mw ≥ 8.0. These estimates assume a single, time-invariant magnitude-frequency distribution and do not account for geological limits on future earthquake magnitude, for example via fault length or maximum slip. With these assumptions, they yield a first-order estimate of future earthquake probabilities in the region."
      ],
      "metadata": {
        "id": "T7Tz182OtUBr"
      }
    }
  ]
}