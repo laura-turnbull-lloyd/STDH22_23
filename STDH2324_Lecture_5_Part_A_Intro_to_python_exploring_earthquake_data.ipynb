{
  "nbformat": 4,
  "nbformat_minor": 0,
  "metadata": {
    "kernelspec": {
      "display_name": "Python 3",
      "language": "python",
      "name": "python3"
    },
    "language_info": {
      "codemirror_mode": {
        "name": "ipython",
        "version": 3
      },
      "file_extension": ".py",
      "mimetype": "text/x-python",
      "name": "python",
      "nbconvert_exporter": "python",
      "pygments_lexer": "ipython3",
      "version": "3.9.0"
    },
    "colab": {
      "provenance": [],
      "include_colab_link": true
    }
  },
  "cells": [
    {
      "cell_type": "markdown",
      "metadata": {
        "id": "view-in-github",
        "colab_type": "text"
      },
      "source": [
        "<a href=\"https://colab.research.google.com/github/laura-turnbull-lloyd/STDH_teaching/blob/main/STDH2324_Lecture_5_Part_A_Intro_to_python_exploring_earthquake_data.ipynb\" target=\"_parent\"><img src=\"https://colab.research.google.com/assets/colab-badge.svg\" alt=\"Open In Colab\"/></a>"
      ]
    },
    {
      "cell_type": "markdown",
      "source": [
        "# Brief introduction to coding in python\n",
        "Python is a programming language. This is a google colab notebook in which you can write text (as I've done here), intersereed with executable code. Python notbooks have an '.ipynb' extension.\n",
        "\n",
        "If you have any experience of coding, you are welcome to jump to section **Introduction to coding and the types of data we'll be working with**\n",
        "\n",
        "Otherwise, let's go through a few basics that will help to set you up for the more interesting stuff we'll do in a bit...\n",
        "\n",
        "You can use a python notebook as a simple calculator. In the block of code below, click on the arrow to execute the code. You will see the result of this sum printed out below."
      ],
      "metadata": {
        "id": "jaHI67nLij9d"
      }
    },
    {
      "cell_type": "code",
      "source": [
        "3 - 2 + 10"
      ],
      "metadata": {
        "id": "i4AXZRDYjmVv"
      },
      "execution_count": null,
      "outputs": []
    },
    {
      "cell_type": "markdown",
      "source": [
        "## Now, a challenge for you!\n",
        "\n",
        "Do you think the results of these two operations will be identical? If not, why? ***Decide what you think the answer is before running the code!***"
      ],
      "metadata": {
        "id": "GG_nr2wpkF3S"
      }
    },
    {
      "cell_type": "code",
      "source": [
        "print(4 * (2 - 8) + 2)\n",
        "print(4 * 2 - 8 + 2)"
      ],
      "metadata": {
        "id": "oCZXgtgwkRyq"
      },
      "execution_count": null,
      "outputs": []
    },
    {
      "cell_type": "markdown",
      "source": [
        "The results are different due to the order in which Python runs the operations. Anyway, remember the importance of parentheses in determining 'precedence' – which operations get done first.\n",
        "\n",
        "You'll see that the code above encompases each formula in print() command on each line; this simply allows us to print out the results of both calculations when the code runs. We'll come back to this later.\n",
        "\n",
        "Later on, we'll be working with powers. In python, if you use two asterisks instead of one then you'll be performing an exponentiation:"
      ],
      "metadata": {
        "id": "Ehtxi7d8keVZ"
      }
    },
    {
      "cell_type": "code",
      "source": [
        "2 ** 4"
      ],
      "metadata": {
        "id": "59_QJ2-UkdlQ"
      },
      "execution_count": null,
      "outputs": []
    },
    {
      "cell_type": "markdown",
      "source": [
        "That's the same as:"
      ],
      "metadata": {
        "id": "BWSlchvhk2W9"
      }
    },
    {
      "cell_type": "code",
      "source": [
        "2 * 2 * 2 * 2"
      ],
      "metadata": {
        "id": "l5SzfwlPk6IQ"
      },
      "execution_count": null,
      "outputs": []
    },
    {
      "cell_type": "markdown",
      "source": [
        "2**4 is how we get 2-to-the-power-of-4 (the same as multiplying 2 together 4 times). Hopefully this all kind of rings a bell even if you've not studied any maths in a while.\n",
        "\n",
        "So, 2**4 is 2-to-the-power-of-4, but how do we get the square root (or fourth root) of a number? Right now, with what you've learned so far, the best way is to remember that a square root is the same as an exponent of one-half. The fourth root is an exponent of one-quarter. Etc.\n"
      ],
      "metadata": {
        "id": "wTfwBa33lBi1"
      }
    },
    {
      "cell_type": "code",
      "source": [
        "print(2**8)           # 2-to-the-8\n",
        "print(256**(1.0/8.0)) # 256-to-the-one-eighth"
      ],
      "metadata": {
        "id": "BoxmT4FwlSda"
      },
      "execution_count": null,
      "outputs": []
    },
    {
      "cell_type": "markdown",
      "source": [
        "## Another challenge for you!\n",
        "What do you think will be the result of this operation? Work out your answer before running the code."
      ],
      "metadata": {
        "id": "GDjwn2HMlnks"
      }
    },
    {
      "cell_type": "code",
      "source": [
        "print( (2*3) ** 2 )"
      ],
      "metadata": {
        "id": "vxQlcIOSlryJ"
      },
      "execution_count": null,
      "outputs": []
    },
    {
      "cell_type": "markdown",
      "source": [
        "## The error message\n",
        "At some point when you will run python code, you will encounter the error message. This is Python's way of telling you what went wrong in the operation.\n",
        "\n",
        "Python always tries to tell you what it thinks went wrong and this is the starting point for all debugging. When something goes wrong in a program this error is like the first clue that puts you on the trail of the wrongdoer: sometimes one clue will lead to another, and another, and another... sometimes one clue is all you need.\n",
        "\n",
        "If you encounter an error message, it's important that you have a look at hte message, and your code, to see if you can figure out what the problem might be.\n",
        "\n",
        "For example, in python, dividing by zero causes an error message:"
      ],
      "metadata": {
        "id": "cJnHDOTXm68E"
      }
    },
    {
      "cell_type": "code",
      "source": [
        "10/0"
      ],
      "metadata": {
        "id": "A5CWaM6fnh9P"
      },
      "execution_count": null,
      "outputs": []
    },
    {
      "cell_type": "markdown",
      "source": [
        "## Types of numbers\n",
        "We've seen some examples above of maths with integers (i.e. \"whole\" numbers) and maths with floats (i.e. \"decimal\" numbers). Both can be positive and negative (e.g. -1 or -254.32672).\n",
        "\n",
        "Any operation involving a mix of floats and integers will always yeld a float. For example, compare the output for the code below, but note how the resulting data type varies with the operation."
      ],
      "metadata": {
        "id": "It6gvnEKn77X"
      }
    },
    {
      "cell_type": "code",
      "source": [
        "print(7 * 4)\n",
        "print(7 * 4.0)"
      ],
      "metadata": {
        "id": "yYntv_3ZoKNm"
      },
      "execution_count": null,
      "outputs": []
    },
    {
      "cell_type": "code",
      "source": [
        "print(20 / 5)\n",
        "print(20.0 / 5)"
      ],
      "metadata": {
        "id": "yv-0ucF9oL31"
      },
      "execution_count": null,
      "outputs": []
    },
    {
      "cell_type": "code",
      "source": [
        "print(22 / 7)\n",
        "print(22.0 / 7)\n",
        "print( int(22.0/7) )"
      ],
      "metadata": {
        "id": "7XWxSHaeoWA3"
      },
      "execution_count": null,
      "outputs": []
    },
    {
      "cell_type": "code",
      "source": [
        "print(6 + 3)\n",
        "print(6.0 + 3)"
      ],
      "metadata": {
        "id": "QpMKmb72ojj1"
      },
      "execution_count": null,
      "outputs": []
    },
    {
      "cell_type": "markdown",
      "source": [
        "So you can see how Python is implicitly converting the numbers between the two different data types.\n",
        "\n",
        "The integer-to-float conversion might seem a bit of a pedantic distinction, but imagine if you were programming a banking application: you would definitely pay attention to all those decimals!\n",
        "\n",
        "## Your turn...\n",
        "Have a go a calculating the area of a circle, with a radius of 6. Recall that the area of a circle is\n",
        "![image.png](data:image/png;base64,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)\n",
        "You should get something around 113.1 as the area. Use 3.1412 for the constant pi.\n",
        "\n",
        "\n"
      ],
      "metadata": {
        "id": "XL8MJvrdopmi"
      }
    },
    {
      "cell_type": "code",
      "source": [],
      "metadata": {
        "id": "zT227YKupGrn"
      },
      "execution_count": null,
      "outputs": []
    },
    {
      "cell_type": "markdown",
      "source": [
        "## Text in python\n",
        "Text enclosed within single or double quotation marks in python is referred to as 'string':"
      ],
      "metadata": {
        "id": "NnKWyJ2RqZwT"
      }
    },
    {
      "cell_type": "code",
      "source": [
        "print(\"I'm a string of text!\")"
      ],
      "metadata": {
        "id": "bret6zUArEzj"
      },
      "execution_count": null,
      "outputs": []
    },
    {
      "cell_type": "markdown",
      "source": [
        "Numbers and strings are not interachangeable: \"2016\" is not the same as 2016. The first is a string that happens to contain the characters 2, 0, 1, and 6. The second is an integer number one larger than 2015."
      ],
      "metadata": {
        "id": "y1upPe-KrrWq"
      }
    },
    {
      "cell_type": "code",
      "source": [
        "print(\"2016\")\n",
        "print(2016)"
      ],
      "metadata": {
        "id": "t7RAF33rrw0F"
      },
      "execution_count": null,
      "outputs": []
    },
    {
      "cell_type": "markdown",
      "source": [
        "As you can see from running the code above, it's a bit annoying that they look the same when we print them. But if you run the next lines of code (after thinking about what they might do), you'll see how Python tries to be helpful with its errors:"
      ],
      "metadata": {
        "id": "FiJ67E2Dr3W7"
      }
    },
    {
      "cell_type": "code",
      "source": [
        "2015 + 1"
      ],
      "metadata": {
        "id": "zV0UhH2cr29k"
      },
      "execution_count": null,
      "outputs": []
    },
    {
      "cell_type": "code",
      "source": [
        "\"2015\" + 1"
      ],
      "metadata": {
        "id": "Qp2Fvo0isAG4"
      },
      "execution_count": null,
      "outputs": []
    },
    {
      "cell_type": "markdown",
      "source": [
        "See how the first line of code prints 2016, but the second line of code (which tries to add together a string \"2015\" and the number 1) gives you an error...\n",
        "\n"
      ],
      "metadata": {
        "id": "vr9-lE0TsHxF"
      }
    },
    {
      "cell_type": "markdown",
      "source": [
        "##What is a variable\n",
        "So far, everything we've done was about performing some kind of calculation on an integer or float and then showing the result. Given that a lot of programming doesn't involve solving everything in one easy line, how do you save an answer so that you can re-use it later? Let's start with the first true programming concept: the variable.\n",
        "\n",
        "If you have studied other programming languages before then the concept of the variable will be so familiar to you that it's hard to remember even having to learn it! Some people think of a variable simply as \"a box\" that contains values that we want to store and retrieve in the future. However, we think it might be more useful to think of a variable as the label of a box in which we put something: for programmers, the label is how we remember what we put in the box and where we put it.\n",
        "\n",
        "Here's an example of a variable:"
      ],
      "metadata": {
        "id": "tRlylMH-ssqY"
      }
    },
    {
      "cell_type": "code",
      "source": [
        "result = -2 * 10"
      ],
      "metadata": {
        "id": "Pzak8f5ZtIBA"
      },
      "execution_count": null,
      "outputs": []
    },
    {
      "cell_type": "markdown",
      "source": [
        "Hmmmm, nothing printed out this time...\n",
        "\n",
        "That's because this time we gave Python a box with the label \"result\" in which to put the result of multiplying -2 and 10."
      ],
      "metadata": {
        "id": "97uH-9XstN_4"
      }
    },
    {
      "cell_type": "code",
      "source": [
        "result = -2 * 10\n",
        "print(result)"
      ],
      "metadata": {
        "id": "5J7bNpvPtSFa"
      },
      "execution_count": null,
      "outputs": []
    },
    {
      "cell_type": "markdown",
      "source": [
        "So here, we assigned the outcome of -2 * 10 to a variable called result; then we printed out the value of the variable.\n",
        "\n",
        "Variables can assigned to other variables using the = operator in the same way that the result of the maths operation above could be assigned to a new variable.\n"
      ],
      "metadata": {
        "id": "mm9Dbtc-tXsK"
      }
    },
    {
      "cell_type": "code",
      "source": [
        "another_result = result\n",
        "print(another_result)"
      ],
      "metadata": {
        "id": "UKTGViEluKW4"
      },
      "execution_count": null,
      "outputs": []
    },
    {
      "cell_type": "markdown",
      "source": [
        "###Naming variables\n",
        "How do you choose a variable name (i.e. label) in Python?\n",
        "\n",
        "Here's a short list of the conventions:\n",
        "\n",
        "* names may contain letters and/or numbers (e.g. myVar2)\n",
        "* names cannot begin with a number (e.g. 2myVar)\n",
        "* names may contain an underscore (\"_\") (e.g. my_var_2)\n",
        "* names can be of any length (e.g. m2 or mySecondVariableIsReallyLong)\n",
        "* you cannot use Python keywords (e.g. print)\n",
        "\n",
        "Also remember that Python is case-sensitive!\n",
        "\n",
        "So, your variable ```result``` is different to ```Result```.\n",
        "\n",
        "Here are a couple of links to other python resources that you might find useful:\n",
        "\n",
        "https://docs.python-guide.org/intro/learning/\n",
        "\n",
        "https://www.codecademy.com/catalog\n",
        "\n"
      ],
      "metadata": {
        "id": "EOzp3c_XuPdL"
      }
    },
    {
      "cell_type": "markdown",
      "metadata": {
        "id": "s_jrtx6imUnH"
      },
      "source": [
        "\n",
        "# Introduction to coding and the types of data we'll be working with\n",
        "\n",
        "Now, to give you a gentle introduction to coding in the context of the types of data that we will work with during this module, you will have a go at accessing up-to-date earthquake data for the last 7 days from the USGS, and visualise it.\n",
        "\n",
        "There are a number of advantages to downloading data directly from its source.\n",
        "\n",
        "1. You can more confident that the data are up-to-date, and when we're dealing with hazards that are continuoulsy occurring, this is really important.\n",
        "2. The data curators will be continously maintaining the database. This might involve rectifying any issues that other uses have stumbled upon.\n",
        "3. It saves you from having to download and store the data on your own computer.\n",
        "\n",
        "You will have a go at exploring the dataset, and plotting out the data. Through this exercise, you will start to become familiar with how this type of python notebook works, you should start to feel comfortable changing things in the code, and you should start to see the benefits of coding, rather than clicking away in an excel spreadsheet or GIS software that has a user interface.\n",
        "\n",
        "Although perhaps daunting at first, this type of approach to data analysis is powerful, and most importantly, reproducible.\n",
        "\n",
        "## Python packages\n",
        "Once of the strengths of python is that there are numerous external packages that are very powerful for the types of data analysis you will be undertaking throughout this module. A package is essentially a collection of functions that can enable you to do quite complex calculations much more easily (i.e. the hard work has been done for you).\n",
        "\n",
        "We're going to use the following packages:\n",
        "* *Numpy* - a mathematical operations package.\n",
        "* *Pandas* - a data analysis and data manipulation tool\n",
        "* *Matplotlib* - a comprehensive library for creating visualizations\n",
        "* *Geopandas* - a package for working with geospatial data\n",
        "\n",
        "Run the block of code below to load these packages:"
      ]
    },
    {
      "cell_type": "code",
      "metadata": {
        "id": "YORyecDymUnI"
      },
      "source": [
        "# External packages that we need to call\n",
        "import numpy as np\n",
        "import pandas as pd\n",
        "import matplotlib.pyplot as plt\n",
        "!pip install geopandas\n",
        "import geopandas as gpd"
      ],
      "execution_count": null,
      "outputs": []
    },
    {
      "cell_type": "markdown",
      "source": [
        "Note that google colab has some python packages already installed, so you only have to import them. However, it does not have geopandas installed, so we have to manually install this first, using the ```!pip install``` command, as shown above.\n",
        "\n"
      ],
      "metadata": {
        "id": "gRtKQumBzVek"
      }
    },
    {
      "cell_type": "markdown",
      "metadata": {
        "id": "ognwypYUnccz"
      },
      "source": [
        "## Earthquake data\n",
        "\n",
        "The US government maintains a set of [live feeds](https://earthquake.usgs.gov/earthquakes/feed/v1.0/) of earthquake-related data from recent seismic events. You can choose to examine data from the last hour, through the last thirty days. You can choose to examine data from events that have a variety of magnitudes. Today, we'll use a dataset that contains all seismic events over the last seven days, which have a magnitude of 1.0 or greater, in .csv (comma-separated value) format.\n",
        "\n",
        "There direct link to the data file is [here](http://earthquake.usgs.gov/earthquakes/feed/v1.0/summary/1.0_week.csv)."
      ]
    },
    {
      "cell_type": "code",
      "source": [
        "df = pd.read_csv('http://earthquake.usgs.gov/earthquakes/feed/v1.0/summary/1.0_week.csv')"
      ],
      "metadata": {
        "id": "FH0NoyvB55Oj"
      },
      "execution_count": null,
      "outputs": []
    },
    {
      "cell_type": "markdown",
      "source": [
        "To expore the data, you can view a subset of the dataframe:"
      ],
      "metadata": {
        "id": "x_he9QMG6Vq9"
      }
    },
    {
      "cell_type": "code",
      "source": [
        "df.head(5) # choose to show the first (how many) lines of the file\n"
      ],
      "metadata": {
        "id": "jbx0M2Nt6Uj1"
      },
      "execution_count": null,
      "outputs": []
    },
    {
      "cell_type": "markdown",
      "source": [
        "You can find out what the column header values mean on the USGS web page [here](https://earthquake.usgs.gov/earthquakes/feed/v1.0/csv.php)."
      ],
      "metadata": {
        "id": "SSpf7sBf3-u9"
      }
    },
    {
      "cell_type": "markdown",
      "source": [
        "Here, we introduced the term 'dataframe'. A DataFrame is basically a table of data, all linked by a common index. It’s a lot like a table in a spreadsheet. When working with data, it's always really useful to see the structure of data that you're working with (some calculations you will later perform can only be undertaken on certain types of data -- for instance, you can't undertake mathematical calculations on non-numeric data).\n",
        "\n",
        "We can simply extract information about the structure of our data using the ```\n",
        "`df.info` ``` command.\n",
        "\n",
        "You can find an overview of different 'pandas' datatypes [here](https://pbpython.com/pandas_dtypes.html)."
      ],
      "metadata": {
        "id": "VsCOEDh0MBen"
      }
    },
    {
      "cell_type": "code",
      "source": [
        "df.info()"
      ],
      "metadata": {
        "id": "3NEiycxsMdZo"
      },
      "execution_count": null,
      "outputs": []
    },
    {
      "cell_type": "markdown",
      "source": [
        "*How many different variables are in the dataset?*\n",
        "\n",
        "*Which of these variables contain numeric information?*"
      ],
      "metadata": {
        "id": "RC2qN6HqNb_A"
      }
    },
    {
      "cell_type": "markdown",
      "source": [
        "There are other commands we can use to interrogate the structure of our data. For instance, the `.shape` command displays the number of rows and columns in a file"
      ],
      "metadata": {
        "id": "TQQ_JSt23PnA"
      }
    },
    {
      "cell_type": "code",
      "source": [
        "df.shape"
      ],
      "metadata": {
        "id": "mm_wfZF11Gpd"
      },
      "execution_count": null,
      "outputs": []
    },
    {
      "cell_type": "markdown",
      "source": [
        "*How many earthquakes do you think occurred during the last 7 days?*"
      ],
      "metadata": {
        "id": "yaOo2sof1VsY"
      }
    },
    {
      "cell_type": "markdown",
      "source": [
        "You can also view only specific columns of the dataframe:"
      ],
      "metadata": {
        "id": "hQZoCmrq6xQK"
      }
    },
    {
      "cell_type": "code",
      "source": [
        "# Display the first 5 lats and lons.\n",
        "print('latitude', df.latitude[0:5])\n",
        "print('longitude', df.longitude[0:5])"
      ],
      "metadata": {
        "id": "sCAVlcfB60Fq"
      },
      "execution_count": null,
      "outputs": []
    },
    {
      "cell_type": "markdown",
      "source": [
        "Whenever you're working with a new dataset, it's good practice to undertake some basic exploratory data analysis to make sure that the data look sensible and don't contain any glaringly obvious errors, and also to see if there are any interesting structures within the data.\n",
        "\n",
        "We can perform a wide range of statistical functions on the data, for instance extracting the maximum and minimum values of a dataframe/column."
      ],
      "metadata": {
        "id": "SZCYxoxqOUyO"
      }
    },
    {
      "cell_type": "code",
      "source": [
        "df.min()"
      ],
      "metadata": {
        "id": "3niWqwhbOpqh"
      },
      "execution_count": null,
      "outputs": []
    },
    {
      "cell_type": "code",
      "source": [
        "df.max()"
      ],
      "metadata": {
        "id": "MWV59OTxQyLy"
      },
      "execution_count": null,
      "outputs": []
    },
    {
      "cell_type": "markdown",
      "source": [
        "*What to you think the command ```df.min``` has returned?*\n",
        "\n",
        "Let's find interrogate the data to retrieve information on the largest earthquake to have occurred in the last week:"
      ],
      "metadata": {
        "id": "tVP1npMAQ6Dh"
      }
    },
    {
      "cell_type": "code",
      "source": [
        "\n",
        "df[df.mag == df.mag.max()] # this line of code subsets the entire dataframe based on the row of data that has the maximum magnitude value."
      ],
      "metadata": {
        "id": "xYs__0bio_S2"
      },
      "execution_count": null,
      "outputs": []
    },
    {
      "cell_type": "markdown",
      "source": [
        "Now, have a go at extracting information of the deepest earthquake to have occurred during the last 7 days."
      ],
      "metadata": {
        "id": "uC9h1PAkrz8G"
      }
    },
    {
      "cell_type": "code",
      "source": [
        "# enter your code here to extract information of the deepest earthquake to have occurred during the last 7 days. Type your code on the next line, and run it.\n"
      ],
      "metadata": {
        "id": "Jn0NG4Inry7A"
      },
      "execution_count": null,
      "outputs": []
    },
    {
      "cell_type": "markdown",
      "source": [
        "*Where was the deepest earthquake, and how deep was it?*\n",
        "\n",
        "## Plotting a time series of data\n",
        "When first exploring a dataset it's useful to see if and how the data vary over time. If for instance there's a step-change in the value of a variable, it might indicate an issue with the data, or alternativley you might notice drift in a dataset (i.e. an upward or downward trend) that might be attributed to issues with measurement rather than processes associated with the hazard. Alternativley variations over time might indicate something really quite interesting about the data!\n",
        "\n"
      ],
      "metadata": {
        "id": "cRx_ClRwsgCp"
      }
    },
    {
      "cell_type": "code",
      "source": [
        "ax1 = df.plot.scatter(x='time', y='mag', c='DarkBlue')"
      ],
      "metadata": {
        "id": "2VZywp6tHhqL"
      },
      "execution_count": null,
      "outputs": []
    },
    {
      "cell_type": "markdown",
      "source": [
        "### A first look at the statistical distribution of data\n",
        "A useful thing to do when first exploring a dataset is to visually inspect the distribution of the data, by plotting the histogram.\n",
        "\n",
        "Let's look at the distribution of earthquake magnitude:"
      ],
      "metadata": {
        "id": "5jDKD_A7He_C"
      }
    },
    {
      "cell_type": "code",
      "source": [
        "ax2 = df.mag.hist(bins = 20)\n",
        "ax2.set_xlabel(\"Magnitude\")\n",
        "ax2.set_ylabel(\"Frequency\")"
      ],
      "metadata": {
        "id": "S0ZL3evYK4Bi"
      },
      "execution_count": null,
      "outputs": []
    },
    {
      "cell_type": "markdown",
      "source": [
        "*Do you notice anything funny about the distribution of earthquake magnitudes? Why might this be?*\n"
      ],
      "metadata": {
        "id": "tNydsQH_L2Vf"
      }
    },
    {
      "cell_type": "markdown",
      "metadata": {
        "id": "KpwLZNBktyM0"
      },
      "source": [
        "### Plotting the on a world map\n",
        "You will now use the package `geopandas` to make a plot of the spatial distribution of earthquake events."
      ]
    },
    {
      "cell_type": "code",
      "source": [
        "# Making the map\n",
        "world = gpd.read_file(gpd.datasets.get_path('naturalearth_lowres'))\n",
        "world.plot();"
      ],
      "metadata": {
        "id": "G1ttXQfM3yQi"
      },
      "execution_count": null,
      "outputs": []
    },
    {
      "cell_type": "markdown",
      "source": [
        "Now we'll plot the earthquake data."
      ],
      "metadata": {
        "id": "uzkjbGa74OvJ"
      }
    },
    {
      "cell_type": "code",
      "source": [
        "# making the map\n",
        "fig, ax = plt.subplots(figsize=(12,7))\n",
        "x = df['longitude']\n",
        "y = df['latitude']\n",
        "world.plot(ax=ax, color='lightblue', edgecolor='grey')     # this part is the map\n",
        "ax.scatter(x,y, s=20, color='red')    # this adds the scatter points on top\n",
        "ax.set_title('Title!')\n",
        "ax.set_xlabel('label me')\n",
        "ax.set_ylabel('me, too!')\n",
        "#ax.set_xlim(-160, -140)    # uncomment this and edit to zoom in\n",
        "#ax.set_ylim(15, 25)        # uncomment this and edit to zoom in\n",
        "plt.show()"
      ],
      "metadata": {
        "id": "nGd514w34NUo"
      },
      "execution_count": null,
      "outputs": []
    },
    {
      "cell_type": "markdown",
      "source": [
        "*Try editing the code above the graph to sensible add x and y axes labels and a title, then run the code again to see the changes.*"
      ],
      "metadata": {
        "id": "B993y3Un5qoH"
      }
    },
    {
      "cell_type": "markdown",
      "source": [
        "Let's say we're only interested in seeing the location of large earthquakes. We can query the data to extract only earthquakes larger than a specific magnitude."
      ],
      "metadata": {
        "id": "SGfA1Dkj6bhZ"
      }
    },
    {
      "cell_type": "code",
      "source": [
        "# choose which data to plot\n",
        "dflarge = df.query('mag > 4') #mag is earthquake magnitude\n"
      ],
      "metadata": {
        "id": "hNnHC8xv6xOF"
      },
      "execution_count": null,
      "outputs": []
    },
    {
      "cell_type": "markdown",
      "source": [
        "*Add a line of code below to work out how many earthquakes there are > magnitude 4.*"
      ],
      "metadata": {
        "id": "KXL16f2z7DQN"
      }
    },
    {
      "cell_type": "code",
      "source": [
        "# add code here to work out how many earthquakes there have been in the last 7 days that are greater than magnitude 4\n"
      ],
      "metadata": {
        "id": "1ls-c8hN1xU_"
      },
      "execution_count": null,
      "outputs": []
    },
    {
      "cell_type": "markdown",
      "source": [
        "Now, let's plot out only the earthquakes with magnitude > 4."
      ],
      "metadata": {
        "id": "cKFkDsxe7Y1q"
      }
    },
    {
      "cell_type": "code",
      "source": [
        "fig, ax = plt.subplots(figsize=(12,7))\n",
        "x = dflarge['longitude']\n",
        "y = dflarge['latitude']\n",
        "world.plot(ax=ax, color='white', edgecolor='grey')     # this part is the map\n",
        "ax.scatter(x,y, s=20, color='red')    # this adds the scatter points on top\n",
        "ax.set_title('Title!')\n",
        "ax.set_xlabel('label me')\n",
        "ax.set_ylabel('me, too!')\n",
        "#ax.set_xlim(-160, -140)    # uncomment this and edit to zoom in\n",
        "#ax.set_ylim(15, 25)        # uncomment this and edit to zoom in\n",
        "plt.show()"
      ],
      "metadata": {
        "id": "0svh-R837uRb"
      },
      "execution_count": null,
      "outputs": []
    },
    {
      "cell_type": "markdown",
      "source": [
        "Note that in the code above, the only difference is that we've changed the name of the data we're plotting from `df `to `dflarge`.\n",
        "\n",
        "*By comparing the two figures you've just created, can you identify any regions that experienced only smaller earthquakes?*"
      ],
      "metadata": {
        "id": "cPyeuVEB8IFY"
      }
    },
    {
      "cell_type": "markdown",
      "source": [
        "You can see here that in just a few lines of code you have transformed a large csv file into an informative map. It would be useful though to be able to see the magnitude of each earthquake.\n",
        "\n",
        "Here we'll replot the whole dataset - the `df` data. Note that in the code below, we refer to the `df` dataframe 3 times - make sure that you can see these 3 places..."
      ],
      "metadata": {
        "id": "eQKUUajxEOCI"
      }
    },
    {
      "cell_type": "code",
      "source": [
        "fig, ax = plt.subplots(figsize=(12,7))\n",
        "x = df['longitude']\n",
        "y = df['latitude']\n",
        "world.plot(ax=ax, color='white', edgecolor='grey')   # this part is the map\n",
        "#ax.scatter(x,y, s=20)   # this adds the scatter points on top\n",
        "cbar = ax.scatter(x, y, c = df.mag, alpha=0.8)\n",
        "ax.set_title('Title!')\n",
        "ax.set_xlabel('label me')\n",
        "ax.set_ylabel('me, too!')\n",
        "plt.colorbar(cbar, cmap='viridris', ax=ax, label='Earthquake magnitude', orientation='horizontal', pad = 0.1, shrink = 0.5)\n",
        "#ax.set_xlim(-160, -140)    # uncomment this and edit to zoom in\n",
        "#ax.set_ylim(15, 25)        # uncomment this and edit to zoom in\n",
        "plt.show()"
      ],
      "metadata": {
        "id": "udbby2fc9gRm"
      },
      "execution_count": null,
      "outputs": []
    },
    {
      "cell_type": "markdown",
      "source": [
        "In the above figure, we've used the 'vidris' colour ramp. Have a look [here](https://matplotlib.org/stable/gallery/color/colormap_reference.html) at other colour ramp options, and have a go at replotting the figure with a different colour ramp."
      ],
      "metadata": {
        "id": "EIv4Unz-HAJk"
      }
    },
    {
      "cell_type": "markdown",
      "source": [
        "### Further interrogation of the data\n",
        "There appear to be many earthquakes in the western USA -- *Why do you think this is?*\n",
        "\n",
        "\n",
        "Turning our attention back to the hump in frequency magnitude distribution around M=5, let's see if we can figure out why this is.\n",
        "\n",
        "Let's extract earthquake data just for the western coast of the USA. We can do this by creating a bounding box for California. A google search has revealed that the bounding box for California is:\n",
        "\n",
        "CA California [xmin] -124.409591 [ymin] 32.534156 [xmax] -114.131211 [ymax] 42.009518\n",
        "\n",
        "We can therefore subset the data to contain only the earthquakes contained within this bounding box.\n"
      ],
      "metadata": {
        "id": "g6En-hC1MPBZ"
      }
    },
    {
      "cell_type": "code",
      "source": [
        "df_CA = df[(df[\"latitude\"] > 32.534156) & (df[\"latitude\"] < 42.009518)& (df[\"longitude\"] > -124.409591) & (df[\"longitude\"] < -114.131211 )]"
      ],
      "metadata": {
        "id": "qMIhdHdcPopy"
      },
      "execution_count": null,
      "outputs": []
    },
    {
      "cell_type": "markdown",
      "source": [
        "Now, we will reuse the code from the code block above to plot the data (I always replot data after undertaking this type of spatial subset, just to check that I have coded it correctly).\n",
        "\n",
        "Below, I have pasted the code that you used before.\n",
        "\n",
        "*Your task now is to modify the code to get it to plot only the subsetted data for California (in the code above we called this new dataframe  ```df_CA```.*\n",
        "\n",
        "Also have a go at uncommenting the lines so that you can zoom in to California.\n",
        "\n"
      ],
      "metadata": {
        "id": "ElPSdePdQ9W3"
      }
    },
    {
      "cell_type": "code",
      "source": [
        "fig, ax = plt.subplots(figsize=(12,7))\n",
        "x = df['longitude']\n",
        "y = df['latitude']\n",
        "world.plot(ax=ax, color='white', edgecolor='grey')   # this part is the map\n",
        "#ax.scatter(x,y, s=20)   # this adds the scatter points on top\n",
        "cbar = ax.scatter(x, y, c = df.mag, alpha=0.8)\n",
        "ax.set_title('Title!')\n",
        "ax.set_xlabel('label me')\n",
        "ax.set_ylabel('me, too!')\n",
        "plt.colorbar(cbar, cmap='viridris', ax=ax, label='Earthquake magnitude', orientation='horizontal', pad = 0.1, shrink = 0.5)\n",
        "#ax.set_xlim(-160, -140)    # uncomment this and edit to zoom in\n",
        "#ax.set_ylim(15, 25)        # uncomment this and edit to zoom in\n",
        "plt.show()"
      ],
      "metadata": {
        "id": "8RAnNuUiP8d3"
      },
      "execution_count": null,
      "outputs": []
    },
    {
      "cell_type": "markdown",
      "source": [
        "Now, let's look at the statistical distribution of earthquake magnitude for only California"
      ],
      "metadata": {
        "id": "ywa-3JD2SiB7"
      }
    },
    {
      "cell_type": "code",
      "source": [
        "# Have a go at entering the appropriate code to plot the distribution of earthquake magnitudes for California. If you get stuck, just shout....\n"
      ],
      "metadata": {
        "id": "Xa42pT5FS1Nz"
      },
      "execution_count": null,
      "outputs": []
    },
    {
      "cell_type": "markdown",
      "source": [
        "*What do you notice about the distribution of earthquakes in CA compared to the frequency-magnitude distribution of earthquakes globally?*\n",
        "\n",
        "This difference in the distributions, and the odd \"hump\" in the distribution of earthquake magnitudes really speaks to the importance of exploring data carefully.\n",
        "\n",
        "A closer inspection of the information associated with the USGS data ([see here](https://earthquake.usgs.gov/earthquakes/map/?extent=10.57422,-161.89453&extent=58.58544,-28.125&list=false&map=false&about=true&help=missing)) indicates that the USGS database does not report all earthquakes < M5 outside of the United States.\n",
        "\n",
        "It's confusing though, isn't it, because we specifically requested global earthquake data for the last 7 days, yet this is seemingly not what we've got. There's a slightly old, but useful blog post on this issue [here](http://goodstatsbadstats.com/?p=1277).  \n",
        "\n",
        "This is an important lesson about the value of really exploring your data first, to check for any oddities, and looking carefully at information from the data source."
      ],
      "metadata": {
        "id": "eCGeXomjTIyu"
      }
    },
    {
      "cell_type": "markdown",
      "source": [
        "## Have a go yourself\n",
        "This is the link to the earthquake data for the last 30 days:\n",
        "https://earthquake.usgs.gov/earthquakes/feed/v1.0/summary/1.0_month.csv\n",
        "\n",
        "By copying relevant sections of code above into the code block below and adapting it, have a go at exploring this data to see if the histogram shape is the same as the one you plotted above for the last 7 days, and to see the spatial distribution of earthquakes during this 30-day time period.\n",
        "\n",
        "*How many earthquakes occurred during the last 30 days?*\n",
        "\n",
        "*How big was the biggest earthquake?*\n",
        "\n",
        "*Where did the biggest earthquake occur?*\n"
      ],
      "metadata": {
        "id": "1vg3CLCY_2OO"
      }
    },
    {
      "cell_type": "code",
      "source": [
        "# Add your new code here:\n",
        "\n"
      ],
      "metadata": {
        "id": "q0BIzuPj5Uwf"
      },
      "execution_count": null,
      "outputs": []
    }
  ]
}