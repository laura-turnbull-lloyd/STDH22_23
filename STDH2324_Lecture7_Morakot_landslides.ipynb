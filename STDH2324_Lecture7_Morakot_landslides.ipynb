{
  "nbformat": 4,
  "nbformat_minor": 0,
  "metadata": {
    "colab": {
      "provenance": [],
      "authorship_tag": "ABX9TyNb46vQyKCJswpkQ1pWjIBU",
      "include_colab_link": true
    },
    "kernelspec": {
      "name": "python3",
      "display_name": "Python 3"
    },
    "language_info": {
      "name": "python"
    }
  },
  "cells": [
    {
      "cell_type": "markdown",
      "metadata": {
        "id": "view-in-github",
        "colab_type": "text"
      },
      "source": [
        "<a href=\"https://colab.research.google.com/github/laura-turnbull-lloyd/STDH_teaching/blob/main/STDH2324_Lecture7_Morakot_landslides.ipynb\" target=\"_parent\"><img src=\"https://colab.research.google.com/assets/colab-badge.svg\" alt=\"Open In Colab\"/></a>"
      ]
    },
    {
      "cell_type": "markdown",
      "source": [
        "# Landslides following Typhoon Morakot and their effectiveness\n",
        "\n",
        "Typhoon Morakot was the deadliest typhoon in the recorded history of Taiwan, and formed over the open Pacific Ocean within a monsoon trough on August 2, 2009.\n",
        "\n",
        "\n",
        "##Generating a landslide inventory using GEE\n",
        "First of all, you are going to use google earth engine (GEE) to create your own landslide inventory (putting into practice what you learned in the first part of the module).\n",
        "\n",
        "You will use ALDI (the Automatic Landslide Detection Index) (Milledge et al 2021) in GEE, which is based on detecting changes in vegetation cover using the Normalized Difference Vegetation Index. The GEE code to run ALDI is provided for you here: https://code.earthengine.google.com/4b2e372be0cdd10ba2b088bae2d97721\n",
        "\n",
        "To run ALDI for Taiwan, you need to modify the code, making the changes/additions detailed below. First I suggest you scroll down the script to gain an appreciation of what the code does/see which image collections it uses etc.\n",
        "\n",
        "\n",
        "###Set the study area of interest.\n",
        "This is done by specifying the coordinates (longitude, latitude) of the bottom left and upper right corners of a bounding box that encompasses the study area (lines 19 and 20 of the script).\n",
        "\n",
        "Change the lower left coordinate to be ‘120.05, 21.6’ and change the upper right coordinate to be ‘121.4, 23.7’.\n",
        "\n",
        "\n",
        "\n",
        "### Set the start and end of the trigger event.\n",
        "You then have to set the start and end date of the trigger event in the format YY-MM-dd (year-month-day) (lines 29 and 30 of the script):\n",
        "\n",
        "\tStart date: 2nd August 2009\n",
        "\n",
        "\tEnd date: 13th August 2009\n",
        "\n",
        "The basic ALDI Google Earth Engine Script produces a raster map of ALDI which you can download. The key thing we’re interested in is where landslides occurred, so we can add in some extra routines to undertake some postprocessing of the data in Google Earth Engine, which will make it quicker to download the outputs of the analysis to your google drive.\n",
        "\n",
        "We’re also only going to focus the analysis on the southern part of Taiwan (within the Region of Interest, specified by the bounding box at the start), where rainfall intensities were highest during Morakot. To do this, we need to clip the ALDI map to a the bounding box. At the end of the script, past the following\n",
        "\n",
        "```\n",
        "var ALDIclip = ALDI.clip(AOI);\n",
        "```\n",
        "###Mask ALDI less than 0.085.\n",
        "You’re going to map out landslides, assuming that an ALDI value of 0.085 or greater corresponds to a typhoon-driven landslide scar. To do this, you will mask out all ALDI values that are less than 0.085.\n",
        "At the end of the script paste the following:\n",
        "```\n",
        "// Postprocessing of ALDI results\n",
        "// Remap values\n",
        "var ALDImasked = ALDIclip.updateMask(ALDIclip.gte(0.085));\n",
        "```\n",
        "These values are real values (have are decimal) and therefore to get a simple identifier of whether or not a landslide occurred, we can convert the masked values into integer (whole number) values, so that the whole area of a landslide scar will have the same numeric identifier. To do this, append the following code to your script:\n",
        "```\n",
        "var floatToInt = ALDImasked.toInt()\n",
        "```\n",
        "And then to visualize the extracted landslides:\n",
        "```\n",
        "Map.addLayer(floatToInt, {color: 'FFFFFF'}, 'landslides085');\n",
        "```\n",
        "###Converting the landslide pixels into polygons:\n",
        "The next step is to convert the pixels identified as landslides to a vector (feature class) and visualise the result on the map.\n",
        "```\n",
        "var vector = floatToInt.reduceToVectors({\n",
        "  reducer: ee.Reducer.countEvery(),\n",
        "  geometry: AOI,\n",
        "  geometryType: 'polygon',\n",
        "  scale: 30,\n",
        "  maxPixels: 1e8\n",
        "});\n",
        "var result = ee.FeatureCollection(vector);\n",
        "Map.addLayer(result, {color: 'red'}, 'landslide_polygons');\n",
        "```\n",
        "Finally, you will export the landslide features to your google drive. Paste the following code at the end of the script:\n",
        "\n",
        "```\n",
        "Export.table.toDrive({collection: result, description: 'landslides_Morakot', fileFormat: 'GeoJSON'});\n",
        "```\n",
        "\n",
        "**You can now run the script to detect landslides following Typhoon Morakot.**\n",
        "\n",
        "To run the code, press ‘Run’. Any errors will be shown in the console window. Note that it might take a few minutes for the landslides polygons to display on the map.\n",
        "\n",
        "Take the time to zoom into the map, toggle on and off layers to get a sense of how well the algorithm has detected areas that have had landslides. In particular, toggle on and off the pre and post-event Landsat 7 false colour composite and zoom in to see where landslides have occurred. Then turn on the landslide polygons to see how well they’ve picked out the landslide areas that you can see.\n",
        "\n",
        "Once the code has finished running, the layers will load, and files available to download will be shown in Tasks. Click on ’Run’ next to  ‘Landslides_Morakot’ to save the file to your google drive (leave the name and format as they are).\n",
        "\n",
        "You have now created the landslide inventory in GEE for Typhoon Morakot.\n",
        "\n",
        "**How well do you think the ALDI algorithm has mapped out Typhon Morakot landslides?**\n",
        "\n",
        "**What are some pros and cons of this approach?**\n"
      ],
      "metadata": {
        "id": "36I8N5BkRNIP"
      }
    },
    {
      "cell_type": "markdown",
      "source": [
        "##Importing your landslide inventory into python\n",
        "To import the landslide data to google colab, we first need to install and load the packages that we will use:"
      ],
      "metadata": {
        "id": "h0KnVTv6Nsnx"
      }
    },
    {
      "cell_type": "code",
      "execution_count": null,
      "metadata": {
        "id": "bR2IcGH-RBpg"
      },
      "outputs": [],
      "source": [
        "!pip install pandas fiona shapely pyproj rtree\n",
        "\n",
        "import pandas as pd\n",
        "# to make sure that pandas outputs values in an easy to read format, we can customise the output format:\n",
        "pd.set_option('display.float_format', lambda x: '%.5f' % x)\n",
        "\n",
        "import numpy as np\n",
        "import matplotlib.pyplot as plt\n",
        "!pip install geopandas\n",
        "import geopandas as gpd\n",
        "import shapely\n",
        "import pyproj\n",
        "#import rtree\n",
        "\n",
        "import seaborn\n",
        "from shapely.geometry import Polygon"
      ]
    },
    {
      "cell_type": "markdown",
      "source": [
        "Enable google colab to access your google drive (you will see a couple of pop up windows where you will be asked to allow colab to access your google drive account)"
      ],
      "metadata": {
        "id": "7jHaKCFLToUR"
      }
    },
    {
      "cell_type": "code",
      "source": [
        "from google.colab import drive\n",
        "drive.mount('/content/drive')"
      ],
      "metadata": {
        "id": "lexplVJJTdzr"
      },
      "execution_count": null,
      "outputs": []
    },
    {
      "cell_type": "markdown",
      "source": [
        "### Opening and viewing the landslide data\n",
        "To read in and view your Morakot landslide inventory:"
      ],
      "metadata": {
        "id": "Yd4mcordXXPj"
      }
    },
    {
      "cell_type": "code",
      "source": [
        "# read in the landslide data that you just created (in geojson format)\n",
        "LS = gpd.read_file(\"/content/drive/MyDrive/landslides_Morakot.geojson\") # this is the landslide data that you created in GEE\n",
        "\n",
        "#Let's inspect the data\n",
        "LS"
      ],
      "metadata": {
        "id": "orke1TRWGi-x"
      },
      "execution_count": null,
      "outputs": []
    },
    {
      "cell_type": "markdown",
      "source": [
        "You can see that there are 11590 rows in the data, which means there are 11509 individual landslide polygons."
      ],
      "metadata": {
        "id": "v5so3z-6Xxsh"
      }
    },
    {
      "cell_type": "markdown",
      "source": [
        "#Determining the coordinate system of the data\n",
        "It's important to be aware of the coordinate system if the data you're working with. You can find it out using the ```crs``` command. It's easy to make mistakes in spatial data analysis when you aren't aware of the coordinate system of your data. This becomes even more important when you are working with more than one dataset.\n"
      ],
      "metadata": {
        "id": "_17K2BjnYBVl"
      }
    },
    {
      "cell_type": "code",
      "source": [
        "LS.crs"
      ],
      "metadata": {
        "id": "swsuXsi-Wauj"
      },
      "execution_count": null,
      "outputs": []
    },
    {
      "cell_type": "markdown",
      "source": [
        "We can see above that the landslide data is in a geographic coordinate system. As we will ultimately want to calculate landslide area and volume (for event effectiveness), we need to work with the data in a projected coordinate system (i.e units in meters rather than decimal degrees). Therefore, we need to reproject the data.\n",
        "\n",
        "A sensible coordinate system to work in is a UTM coordinate system. Taiwan is in UTM zone 51N. EPSG:3829.\n",
        "\n",
        "You can read more about UTM coordiante systems here:\n",
        "https://www.usgs.gov/faqs/how-are-utm-coordinates-measured-usgs-topographic-maps#:~:text=The%20UTM%20(Universal%20Transverse%20Mercator,Zone%2019%2C%20which%20includes%20Maine.\n",
        "\n",
        "To reproject the data:"
      ],
      "metadata": {
        "id": "ox69w3uCYRVl"
      }
    },
    {
      "cell_type": "code",
      "source": [
        "#reproject the landslide data\n",
        "LS_proj  = LS.to_crs({'init': 'epsg:3829'})"
      ],
      "metadata": {
        "id": "Kesr1FbOYUiY"
      },
      "execution_count": null,
      "outputs": []
    },
    {
      "cell_type": "markdown",
      "source": [
        "If we inspect the data again, we can see that the coordinates in the 'geometry' have now changed, reflecting the new coordinate system."
      ],
      "metadata": {
        "id": "1Zt42spjZJlm"
      }
    },
    {
      "cell_type": "code",
      "source": [
        "LS_proj"
      ],
      "metadata": {
        "id": "F-Fm_2ZPYfO1"
      },
      "execution_count": null,
      "outputs": []
    },
    {
      "cell_type": "markdown",
      "source": [
        "# Plotting spatial data\n",
        "It's always useful to visually inspect spatial data. We can plot the raw spatial data using the code below. In this code, we undertake the following steps:\n",
        "\n",
        "1. Create a figure named f with one axis named ax by using the command plt.subplots (part of the library matplotlib, which we have imported at the top of the notebook). Note how the method is returning two elements and we can assign each of them to objects with different name (f and ax) by simply listing them at the front of the line, separated by commas.\n",
        "\n",
        "2. We plot the geographies and tell the function that we want it to draw the polygons on the axis we are passing, ax. This method returns the axis with the geographies in them, so we make sure to store it on an object with the same name, ax.\n",
        "\n",
        "3. We draw the entire plot by calling plt.show().\n",
        "For more information on matplotlib plotting conventions, see here.\n",
        "\n",
        "You can also save figures outside of this notebook, using the plt.savefig command -- see below for an example. Any figures you save will be saved in the current working directory and therefore will need to be moved if you want to access them after the session has ended."
      ],
      "metadata": {
        "id": "gThsE0HEZXEo"
      }
    },
    {
      "cell_type": "code",
      "source": [
        "# Setup figure and axis\n",
        "f, ax = plt.subplots(1, figsize=(16, 8))\n",
        "# Plot layer of polygons on the axis\n",
        "LS_proj.plot(ax=ax)\n",
        "# Remove axis frames\n",
        "#ax.set_axis_off()\n",
        "# Display\n",
        "plt.show()\n",
        "\n",
        "# Save figure to a PNG file\n",
        "plt.savefig('Taiwan_landslides.png')\n",
        "\n",
        "plt.tight_layout()\n",
        "\n",
        "# For a very high resolution image we can add the dpi in the command, e.g.\n",
        "#plt.savefig('Taiwan_landslides.png', dpi = 1080) # I've left this line commented, as you don't need to run it for now.\n"
      ],
      "metadata": {
        "id": "G4OmJLGSRo2H"
      },
      "execution_count": null,
      "outputs": []
    },
    {
      "cell_type": "markdown",
      "source": [
        "#Calculating the area of each landslide\n",
        "Thus far, we don't know the area of each landslide polygon. We can calculate polygon area using the following commands:"
      ],
      "metadata": {
        "id": "FzV6VeCaakZM"
      }
    },
    {
      "cell_type": "code",
      "source": [
        "LS_proj['LS_area'] = LS_proj['geometry'].area # units are in m^2\n",
        "\n",
        "LS_proj # shows the dataframe below"
      ],
      "metadata": {
        "id": "UWekSgoWUT-E"
      },
      "execution_count": null,
      "outputs": []
    },
    {
      "cell_type": "markdown",
      "source": [
        "# Exploratory data analysis\n",
        "As we've established over the previous weeks, it's always useful to undertake exploratory data analysis to determine key characteristics about the data (hazard) that we're working with.\n",
        "\n",
        "We can use the pandas summary statistics (describe) function to be able to explore the data.\n",
        "\n",
        "The describe funciton gives the:\n",
        "> count\n",
        "\n",
        "> mean\n",
        "\n",
        "> standard deviation\n",
        "\n",
        "> minimum\n",
        "\n",
        "> 25 percentile\n",
        "\n",
        "> 50 percentile\n",
        "\n",
        "> 75 percentiles\n",
        "\n",
        "> max\n",
        "\n",
        "of all numeric columns in the dataset."
      ],
      "metadata": {
        "id": "Q5OyNr_bbRcq"
      }
    },
    {
      "cell_type": "code",
      "source": [
        "LS_proj.describe()\n"
      ],
      "metadata": {
        "id": "2t3B5ijQa4OC"
      },
      "execution_count": null,
      "outputs": []
    },
    {
      "cell_type": "markdown",
      "source": [
        "As part of the exploratory data analysis, let's see if the frequency-area distribution shows powerlaw characteristics.\n",
        "\n",
        "Run the code below to view the landslide frequency area distribution:"
      ],
      "metadata": {
        "id": "tUiQdgPius9e"
      }
    },
    {
      "cell_type": "code",
      "source": [
        "def plot_loghist(x, bins):\n",
        "  hist, bins = np.histogram(x, bins=bins)\n",
        "  logbins = np.logspace(np.log10(bins[0]),np.log10(bins[-1]),len(bins))\n",
        "  ax.hist(x, bins=logbins)\n",
        "  ax.set_ylabel(\"Frequency\")\n",
        "  ax.set_xlabel(\"LS area [m^2]\")\n",
        "  plt.xscale('log')\n",
        "  plt.yscale('log')\n",
        "\n",
        "fig, ax = plt.subplots()\n",
        "\n",
        "plot_loghist(LS_proj[\"LS_area\"], 15) # you can alter the number of bins by changin gthe number at the end of this line"
      ],
      "metadata": {
        "id": "lRSLT-YhsfQl"
      },
      "execution_count": null,
      "outputs": []
    },
    {
      "cell_type": "markdown",
      "source": [
        "**Do you think this plot shows powerlaw behaviour?**\n",
        "\n",
        "**Based on this frequency area distribution, which landslide areas do you expect would do most of the \"geomorphic work\"**"
      ],
      "metadata": {
        "id": "xBkfRoiRu30u"
      }
    },
    {
      "cell_type": "markdown",
      "source": [
        "# Calculating event effectiveness\n",
        "\n",
        "To be able to determine effectiveness, we must be able to\n",
        "  1.\tconvert landslide area to some measure of effect, and\n",
        "  2.\tcalculate the effect of landslides in each size bin\n",
        "\n",
        "A reasonable measure of landslide ‘effect’ is the landslide volume – this indicates the amount of erodible sediment that was created by the landslide, and which may have hazardous impacts as it is mobilized and moved downstream. To determine this, we need to use an empirical scaling relationship to convert area to volume.\n",
        "\n",
        "Chen et al (2019) estimated that the scaling relation between landslide area and volume forlandslides in Taiwan is:\n",
        "\\begin{equation}\n",
        "    \\ V = 0.106 A^{1.25}\n",
        "\\end{equation}\n",
        "where *A* is area in m<sup>2</sup> and *V* is volume in m<sup>3</sup>.\n",
        "\n",
        "We can then apply this area-volume scaling relationship to each individual landslide, and then sum up the individual volumes.\n",
        "\n",
        "Enter this equation into the code block below to calculate landslide volume for all landslides in the dataset.\n"
      ],
      "metadata": {
        "id": "73SMt32kby32"
      }
    },
    {
      "cell_type": "code",
      "source": [
        "# enter your code here\n"
      ],
      "metadata": {
        "id": "cj3Hu7tjc-LU"
      },
      "execution_count": null,
      "outputs": []
    },
    {
      "cell_type": "markdown",
      "source": [
        "To divide the data into bins, you can use the following code to cut the data into bins, and then group the data into these different bins."
      ],
      "metadata": {
        "id": "6HgLS0U2f48J"
      }
    },
    {
      "cell_type": "code",
      "source": [
        "g = pd.cut(LS_proj['LS_area'], bins=np.logspace(np.log10(min(LS_proj.LS_area)),np.log10(max(LS_proj.LS_area)), 30)) # The cut function converts continuous data into discrete bins.\n",
        "summaryLS = LS_proj.groupby(g, observed=True).agg(area_count=('LS_area','count'), volume_sum=('volume','sum'), area=('LS_area', 'mean'), volume=('volume', 'mean')).astype(float)\n"
      ],
      "metadata": {
        "id": "wrxpczDAdhr6"
      },
      "execution_count": null,
      "outputs": []
    },
    {
      "cell_type": "markdown",
      "source": [
        "Now, plot the data...."
      ],
      "metadata": {
        "id": "oQWeZyRApdxJ"
      }
    },
    {
      "cell_type": "code",
      "source": [
        "fig, ax = plt.subplots()\n",
        "ax.plot(summaryLS.area, summaryLS.area_count, color = 'red', label = 'frequency')\n",
        "ax.plot(summaryLS.area, summaryLS.volume, color = 'green', label = 'volume')\n",
        "ax.plot(summaryLS.area, summaryLS.volume_sum, color = 'blue', label = 'effectiveness (total sed mobilised)')\n",
        "ax.set_xlabel(\"Area m^2\")\n",
        "ax.set_ylabel(\"Frequency/Volume m^3/Effectiveness m^3\")\n",
        "ax.set_yscale('log')\n",
        "ax.set_xscale('log')\n",
        "ax.legend()\n",
        "plt.show()"
      ],
      "metadata": {
        "id": "D6ax9FM4etRk"
      },
      "execution_count": null,
      "outputs": []
    },
    {
      "cell_type": "markdown",
      "source": [
        "**What do you observe about landslide effectiveness with an increase in landslide area?**\n",
        "\n",
        "**What are some limitations/uncertainties of this analysis?**"
      ],
      "metadata": {
        "id": "MqQhssGgphsf"
      }
    }
  ]
}